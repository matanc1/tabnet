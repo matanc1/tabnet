{
 "cells": [
  {
   "cell_type": "code",
   "execution_count": 968,
   "metadata": {
    "ExecuteTime": {
     "end_time": "2020-10-13T15:36:27.561147Z",
     "start_time": "2020-10-13T15:36:27.469080Z"
    }
   },
   "outputs": [
    {
     "name": "stdout",
     "output_type": "stream",
     "text": [
      "The autoreload extension is already loaded. To reload it, use:\n",
      "  %reload_ext autoreload\n"
     ]
    }
   ],
   "source": [
    "%load_ext autoreload\n",
    "%autoreload 2 \n",
    "#default_exp model"
   ]
  },
  {
   "cell_type": "code",
   "execution_count": 983,
   "metadata": {
    "ExecuteTime": {
     "end_time": "2020-10-13T16:35:40.468784Z",
     "start_time": "2020-10-13T16:35:40.449207Z"
    }
   },
   "outputs": [],
   "source": [
    "#exporti\n",
    "from fastai.tabular.all import * \n",
    "from tabnet.sparsemax import Sparsemax"
   ]
  },
  {
   "cell_type": "code",
   "execution_count": 3,
   "metadata": {
    "ExecuteTime": {
     "end_time": "2020-10-12T14:05:20.264134Z",
     "start_time": "2020-10-12T14:04:48.816478Z"
    }
   },
   "outputs": [
    {
     "name": "stdout",
     "output_type": "stream",
     "text": [
      "Processing /workspace/libraries/fastcore\n",
      "Obtaining file:///workspace/libraries/fastai\n",
      "Requirement already satisfied: pip in /opt/conda/lib/python3.7/site-packages (from fastcore==1.1.1) (20.0.2)\n",
      "Requirement already satisfied: packaging in /opt/conda/lib/python3.7/site-packages (from fastcore==1.1.1) (19.2)\n",
      "Requirement already satisfied: torchvision>=0.7 in /opt/conda/lib/python3.7/site-packages (from fastai==2.0.16) (0.7.0)\n",
      "Requirement already satisfied: matplotlib in /opt/conda/lib/python3.7/site-packages (from fastai==2.0.16) (3.1.1)\n",
      "Requirement already satisfied: pandas in /opt/conda/lib/python3.7/site-packages (from fastai==2.0.16) (0.25.3)\n",
      "Requirement already satisfied: requests in /opt/conda/lib/python3.7/site-packages (from fastai==2.0.16) (2.22.0)\n",
      "Requirement already satisfied: pyyaml in /opt/conda/lib/python3.7/site-packages (from fastai==2.0.16) (5.2)\n",
      "Requirement already satisfied: fastprogress>=0.2.4 in /opt/conda/lib/python3.7/site-packages (from fastai==2.0.16) (1.0.0)\n",
      "Requirement already satisfied: pillow in /opt/conda/lib/python3.7/site-packages (from fastai==2.0.16) (7.0.0)\n",
      "Requirement already satisfied: scikit-learn in /opt/conda/lib/python3.7/site-packages (from fastai==2.0.16) (0.22.1)\n",
      "Requirement already satisfied: scipy in /opt/conda/lib/python3.7/site-packages (from fastai==2.0.16) (1.4.1)\n",
      "Requirement already satisfied: spacy in /opt/conda/lib/python3.7/site-packages (from fastai==2.0.16) (2.2.3)\n",
      "Requirement already satisfied: torch>=1.6.0 in /opt/conda/lib/python3.7/site-packages (from fastai==2.0.16) (1.6.0)\n",
      "Requirement already satisfied: pyparsing>=2.0.2 in /opt/conda/lib/python3.7/site-packages (from packaging->fastcore==1.1.1) (2.4.6)\n",
      "Requirement already satisfied: six in /opt/conda/lib/python3.7/site-packages (from packaging->fastcore==1.1.1) (1.13.0)\n",
      "Requirement already satisfied: numpy in /opt/conda/lib/python3.7/site-packages (from torchvision>=0.7->fastai==2.0.16) (1.18.1)\n",
      "Requirement already satisfied: cycler>=0.10 in /opt/conda/lib/python3.7/site-packages (from matplotlib->fastai==2.0.16) (0.10.0)\n",
      "Requirement already satisfied: kiwisolver>=1.0.1 in /opt/conda/lib/python3.7/site-packages (from matplotlib->fastai==2.0.16) (1.1.0)\n",
      "Requirement already satisfied: python-dateutil>=2.1 in /opt/conda/lib/python3.7/site-packages (from matplotlib->fastai==2.0.16) (2.8.1)\n",
      "Requirement already satisfied: pytz>=2017.2 in /opt/conda/lib/python3.7/site-packages (from pandas->fastai==2.0.16) (2019.3)\n",
      "Requirement already satisfied: urllib3!=1.25.0,!=1.25.1,<1.26,>=1.21.1 in /opt/conda/lib/python3.7/site-packages (from requests->fastai==2.0.16) (1.25.7)\n",
      "Requirement already satisfied: idna<2.9,>=2.5 in /opt/conda/lib/python3.7/site-packages (from requests->fastai==2.0.16) (2.8)\n",
      "Requirement already satisfied: certifi>=2017.4.17 in /opt/conda/lib/python3.7/site-packages (from requests->fastai==2.0.16) (2019.11.28)\n",
      "Requirement already satisfied: chardet<3.1.0,>=3.0.2 in /opt/conda/lib/python3.7/site-packages (from requests->fastai==2.0.16) (3.0.4)\n",
      "Requirement already satisfied: joblib>=0.11 in /opt/conda/lib/python3.7/site-packages (from scikit-learn->fastai==2.0.16) (0.14.1)\n",
      "Requirement already satisfied: murmurhash<1.1.0,>=0.28.0 in /opt/conda/lib/python3.7/site-packages (from spacy->fastai==2.0.16) (1.0.2)\n",
      "Requirement already satisfied: wasabi<1.1.0,>=0.4.0 in /opt/conda/lib/python3.7/site-packages (from spacy->fastai==2.0.16) (0.6.0)\n",
      "Requirement already satisfied: cymem<2.1.0,>=2.0.2 in /opt/conda/lib/python3.7/site-packages (from spacy->fastai==2.0.16) (2.0.3)\n",
      "Requirement already satisfied: plac<1.2.0,>=0.9.6 in /opt/conda/lib/python3.7/site-packages (from spacy->fastai==2.0.16) (1.1.3)\n",
      "Requirement already satisfied: thinc<7.4.0,>=7.3.0 in /opt/conda/lib/python3.7/site-packages (from spacy->fastai==2.0.16) (7.3.1)\n",
      "Requirement already satisfied: setuptools in /opt/conda/lib/python3.7/site-packages (from spacy->fastai==2.0.16) (44.0.0.post20200106)\n",
      "Requirement already satisfied: catalogue<1.1.0,>=0.0.7 in /opt/conda/lib/python3.7/site-packages (from spacy->fastai==2.0.16) (1.0.0)\n",
      "Requirement already satisfied: blis<0.5.0,>=0.4.0 in /opt/conda/lib/python3.7/site-packages (from spacy->fastai==2.0.16) (0.4.1)\n",
      "Requirement already satisfied: srsly<1.1.0,>=0.1.0 in /opt/conda/lib/python3.7/site-packages (from spacy->fastai==2.0.16) (1.0.1)\n",
      "Requirement already satisfied: preshed<3.1.0,>=3.0.2 in /opt/conda/lib/python3.7/site-packages (from spacy->fastai==2.0.16) (3.0.2)\n",
      "Requirement already satisfied: future in /opt/conda/lib/python3.7/site-packages (from torch>=1.6.0->fastai==2.0.16) (0.18.2)\n",
      "Requirement already satisfied: tqdm<5.0.0,>=4.10.0 in /opt/conda/lib/python3.7/site-packages (from thinc<7.4.0,>=7.3.0->spacy->fastai==2.0.16) (4.48.2)\n",
      "Requirement already satisfied: importlib-metadata>=0.20; python_version < \"3.8\" in /opt/conda/lib/python3.7/site-packages (from catalogue<1.1.0,>=0.0.7->spacy->fastai==2.0.16) (1.7.0)\n",
      "Requirement already satisfied: zipp>=0.5 in /opt/conda/lib/python3.7/site-packages (from importlib-metadata>=0.20; python_version < \"3.8\"->catalogue<1.1.0,>=0.0.7->spacy->fastai==2.0.16) (0.6.0)\n",
      "Requirement already satisfied: more-itertools in /opt/conda/lib/python3.7/site-packages (from zipp>=0.5->importlib-metadata>=0.20; python_version < \"3.8\"->catalogue<1.1.0,>=0.0.7->spacy->fastai==2.0.16) (8.0.2)\n",
      "Building wheels for collected packages: fastcore\n",
      "  Building wheel for fastcore (setup.py) ... \u001b[?25ldone\n",
      "\u001b[?25h  Created wheel for fastcore: filename=fastcore-1.1.1-py3-none-any.whl size=42589 sha256=dce21d93e8bbb9cac4e57b9712456d2f454ecca678f137a732743820e382eb25\n",
      "  Stored in directory: /tmp/pip-ephem-wheel-cache-tn7yq08n/wheels/7f/b2/14/bd5b5a33cd6949520fb130db87d6a4f0566b7514b95107fa83\n",
      "Successfully built fastcore\n",
      "Installing collected packages: fastcore, fastai\n",
      "  Attempting uninstall: fastcore\n",
      "    Found existing installation: fastcore 1.1.1\n",
      "    Uninstalling fastcore-1.1.1:\n",
      "      Successfully uninstalled fastcore-1.1.1\n",
      "  Attempting uninstall: fastai\n",
      "    Found existing installation: fastai 2.0.16\n",
      "    Uninstalling fastai-2.0.16:\n",
      "      Successfully uninstalled fastai-2.0.16\n",
      "  Running setup.py develop for fastai\n",
      "Successfully installed fastai fastcore-1.1.1\n",
      "\u001b[33mWARNING: You are using pip version 20.0.2; however, version 20.2.3 is available.\n",
      "You should consider upgrading via the '/opt/conda/bin/python -m pip install --upgrade pip' command.\u001b[0m\n"
     ]
    }
   ],
   "source": [
    "! pip install -e ../../libraries/fastai ../../libraries/fastcore "
   ]
  },
  {
   "cell_type": "markdown",
   "metadata": {},
   "source": [
    "# Creating the model \n"
   ]
  },
  {
   "cell_type": "code",
   "execution_count": 1015,
   "metadata": {
    "ExecuteTime": {
     "end_time": "2020-10-13T16:51:55.588774Z",
     "start_time": "2020-10-13T16:51:55.566047Z"
    },
    "code_folding": []
   },
   "outputs": [],
   "source": [
    "class TabNet(Module):\n",
    "    \n",
    "    def __init__(self, in_features, out_features, n_d, n_a, n_steps, n_shared_ft_blocks=1,\n",
    "                         n_independent_ft_blocks=2, gamma=1):        \n",
    "        store_attr()\n",
    "        \n",
    "        \n",
    "        intermediate_features = n_d + n_a \n",
    "        self.shared_ft_blocks = [FeatureTransformerBlock(in_features, intermediate_features, is_first=True)] + \\\n",
    "                                [FeatureTransformerBlock(intermediate_features, intermediate_features, is_first=False) \n",
    "                                                                             for _ in range(n_shared_ft_blocks-1)]\n",
    "        \n",
    "        \n",
    "        self.initial_bn = BatchNorm(in_features, ndim=1)\n",
    "        self.initial_ft = FeatureTransformer(self.shared_ft_blocks, n_d, n_a, n_independent_ft_blocks)\n",
    "        \n",
    "        self.att_steps = nn.ModuleList([AttentiveTransformer(n_a, in_features) for i in range(self.n_steps)])\n",
    "        self.ft_steps = nn.ModuleList([FeatureTransformer(self.shared_ft_blocks, n_d, n_a, n_independent_ft_blocks) \n",
    "                                            for i in range(self.n_steps)])\n",
    "        \n",
    "        self.final_fc = nn.Linear(n_d, out_features)\n",
    "    \n",
    "    def forward(self, x_cat, x_cont):\n",
    "        output = 0\n",
    "        x = self.initial_bn(x_cont)\n",
    "        _, a = self.initial_ft(x)\n",
    "        \n",
    "        prior = torch.ones(self.in_features)\n",
    "        \n",
    "        for i in range(self.n_steps):\n",
    "            M = self.att_steps[i](a, prior)\n",
    "            prior = (self.gamma - M)*prior\n",
    "            res = M * x\n",
    "            d, a = self.ft_steps[i](res)\n",
    "            output = output + nn.functional.relu(d)\n",
    "        \n",
    "        res = self.final_fc(output)\n",
    "        return res"
   ]
  },
  {
   "cell_type": "code",
   "execution_count": 1016,
   "metadata": {
    "ExecuteTime": {
     "end_time": "2020-10-13T16:51:55.800549Z",
     "start_time": "2020-10-13T16:51:55.788281Z"
    }
   },
   "outputs": [],
   "source": [
    "class AttentiveTransformer(Module):\n",
    "    \n",
    "    def __init__(self, n_a, in_features):\n",
    "        store_attr()\n",
    "        self.fc = nn.Linear(n_a, in_features)\n",
    "        self.bn = BatchNorm(in_features, ndim=1)\n",
    "        self.sparsemax = Sparsemax()\n",
    "        \n",
    "    def forward(self, a, prior):\n",
    "        a = self.fc(a)\n",
    "        a = self.bn(a)\n",
    "        a = prior * a\n",
    "        M = self.sparsemax(a)\n",
    "        return M"
   ]
  },
  {
   "cell_type": "code",
   "execution_count": 1017,
   "metadata": {
    "ExecuteTime": {
     "end_time": "2020-10-13T16:51:55.998088Z",
     "start_time": "2020-10-13T16:51:55.988014Z"
    }
   },
   "outputs": [],
   "source": [
    "class FeatureTransformer(Module):\n",
    "    \n",
    "    def __init__(self, shared_blocks, n_d, n_a, n_independent_ft_blocks):\n",
    "        store_attr()\n",
    "        intermediate_features = n_d + n_a\n",
    "        steps = [FeatureTransformerBlock(intermediate_features, intermediate_features, False) \n",
    "                             for _ in range(n_independent_ft_blocks)]\n",
    "        self.steps = nn.Sequential(*[*shared_blocks, *steps])\n",
    "        \n",
    "    def forward(self, x):\n",
    "        res = self.steps(x)\n",
    "        d, a = res[:,:self.n_d], res[:,self.n_d:]\n",
    "        return d, a"
   ]
  },
  {
   "cell_type": "code",
   "execution_count": 1018,
   "metadata": {
    "ExecuteTime": {
     "end_time": "2020-10-13T16:51:56.205554Z",
     "start_time": "2020-10-13T16:51:56.188024Z"
    },
    "code_folding": []
   },
   "outputs": [],
   "source": [
    "class FeatureTransformerBlock(Module):\n",
    "    def __init__(self, in_features, intermediate_features, is_first, norm=torch.sqrt(tensor(0.5))):\n",
    "        store_attr()\n",
    "        \n",
    "        self.block1 = self._create_inner_block(is_first=True)\n",
    "        self.block2 = self._create_inner_block(is_first=False)\n",
    "        \n",
    "        \n",
    "    def forward(self, x):\n",
    "        x1 = self.block1(x)\n",
    "        if not self.is_first: x1 = (x1 + x)*self.norm\n",
    "        x2 = self.block2(x1)\n",
    "        x2 = (x2 + x1)*self.norm\n",
    "        return x2\n",
    "        \n",
    "        \n",
    "    def _create_inner_block(self, is_first):\n",
    "        intermediate_features = self.intermediate_features\n",
    "        in_features = self.in_features if is_first else intermediate_features\n",
    "        \n",
    "        return nn.Sequential(*[\n",
    "            nn.Linear(in_features, 2*intermediate_features),\n",
    "            BatchNorm(2*intermediate_features, ndim=1),\n",
    "            nn.GLU(),\n",
    "        ])        \n",
    "        \n",
    "        \n",
    "    "
   ]
  },
  {
   "cell_type": "code",
   "execution_count": 1019,
   "metadata": {
    "ExecuteTime": {
     "end_time": "2020-10-13T16:51:56.408115Z",
     "start_time": "2020-10-13T16:51:56.389280Z"
    }
   },
   "outputs": [],
   "source": [
    "N = 3\n",
    "in_features = 32\n",
    "n_d = n_a = 7 \n",
    "n_steps = 3\n",
    "out_features = 10\n",
    "\n",
    "a = torch.randn((N, in_features))\n",
    "ft = FeatureTransformerBlock(in_features, n_d+n_a, is_first=True)\n",
    "test_eq(ft(a).shape, (N, n_d+n_a))"
   ]
  },
  {
   "cell_type": "code",
   "execution_count": 1020,
   "metadata": {
    "ExecuteTime": {
     "end_time": "2020-10-13T16:51:56.706537Z",
     "start_time": "2020-10-13T16:51:56.649942Z"
    }
   },
   "outputs": [],
   "source": [
    "a = torch.randn((N, in_features))\n",
    "tabnet = TabNet(in_features, out_features, n_d, n_a, n_steps)\n",
    "test_eq(tabnet(a, a).shape, (N, out_features))"
   ]
  },
  {
   "cell_type": "markdown",
   "metadata": {},
   "source": [
    "# Testing it out "
   ]
  },
  {
   "cell_type": "code",
   "execution_count": 1021,
   "metadata": {
    "ExecuteTime": {
     "end_time": "2020-10-13T16:51:57.745394Z",
     "start_time": "2020-10-13T16:51:57.739136Z"
    }
   },
   "outputs": [],
   "source": [
    "data_dir = Path('./data')"
   ]
  },
  {
   "cell_type": "code",
   "execution_count": 1022,
   "metadata": {
    "ExecuteTime": {
     "end_time": "2020-10-13T16:51:57.932405Z",
     "start_time": "2020-10-13T16:51:57.924810Z"
    }
   },
   "outputs": [],
   "source": [
    "def extract_gzip(file, dest=None):\n",
    "    dest = dest or Path(dest)\n",
    "    with gzip.open(file, 'rb') as f_in:\n",
    "        with open(dest / file.stem, 'wb') as f_out:\n",
    "            shutil.copyfileobj(f_in, f_out)"
   ]
  },
  {
   "cell_type": "code",
   "execution_count": 1023,
   "metadata": {
    "ExecuteTime": {
     "end_time": "2020-10-13T16:51:58.100209Z",
     "start_time": "2020-10-13T16:51:58.082356Z"
    }
   },
   "outputs": [],
   "source": [
    "forest_type_url = 'https://archive.ics.uci.edu/ml/machine-learning-databases/covtype/covtype.data.gz'\n",
    "forest_path = untar_data(forest_type_url, dest=data_dir, extract_func=extract_gzip)"
   ]
  },
  {
   "cell_type": "code",
   "execution_count": 1024,
   "metadata": {
    "ExecuteTime": {
     "end_time": "2020-10-13T16:51:58.395712Z",
     "start_time": "2020-10-13T16:51:58.243525Z"
    }
   },
   "outputs": [],
   "source": [
    "df = pd.read_csv(forest_path, nrows=10_000, header=None); df.head()\n",
    "df = df_shrink(df)"
   ]
  },
  {
   "cell_type": "code",
   "execution_count": 1025,
   "metadata": {
    "ExecuteTime": {
     "end_time": "2020-10-13T16:51:58.660950Z",
     "start_time": "2020-10-13T16:51:58.405456Z"
    }
   },
   "outputs": [],
   "source": [
    "dls = TabularDataLoaders.from_df(df, path=data_dir, y_names=54, y_block=CategoryBlock,\n",
    "    cat_names =  [],\n",
    "    cont_names = df.columns.difference([54]).to_list(),\n",
    "    procs = [Categorify, FillMissing, Normalize], bs=3)"
   ]
  },
  {
   "cell_type": "code",
   "execution_count": 1028,
   "metadata": {
    "ExecuteTime": {
     "end_time": "2020-10-13T16:52:09.329125Z",
     "start_time": "2020-10-13T16:52:09.262133Z"
    }
   },
   "outputs": [],
   "source": [
    "tabnet = TabNet(54, 30, 64, 64, 5, n_shared_ft_blocks=2, n_independent_ft_blocks=2, gamma=1.5)\n",
    "learn = TabularLearner(dls, tabnet, metrics=[accuracy])"
   ]
  },
  {
   "cell_type": "code",
   "execution_count": 1029,
   "metadata": {
    "ExecuteTime": {
     "end_time": "2020-10-13T16:52:36.544032Z",
     "start_time": "2020-10-13T16:52:09.832751Z"
    }
   },
   "outputs": [
    {
     "data": {
      "text/html": [],
      "text/plain": [
       "<IPython.core.display.HTML object>"
      ]
     },
     "metadata": {},
     "output_type": "display_data"
    },
    {
     "data": {
      "text/plain": [
       "SuggestedLRs(lr_min=0.010000000149011612, lr_steep=0.009120108559727669)"
      ]
     },
     "execution_count": 1029,
     "metadata": {},
     "output_type": "execute_result"
    },
    {
     "data": {
      "image/png": "[encoded data removed]",
      "text/plain": [
       "<Figure size 432x288 with 1 Axes>"
      ]
     },
     "metadata": {
      "needs_background": "light"
     },
     "output_type": "display_data"
    }
   ],
   "source": [
    "learn.lr_find()"
   ]
  },
  {
   "cell_type": "code",
   "execution_count": null,
   "metadata": {},
   "outputs": [],
   "source": [
    "conv = nn.Conv2d"
   ]
  },
  {
   "cell_type": "code",
   "execution_count": 967,
   "metadata": {
    "ExecuteTime": {
     "end_time": "2020-10-13T04:59:48.806855Z",
     "start_time": "2020-10-13T04:59:32.147934Z"
    }
   },
   "outputs": [
    {
     "data": {
      "text/html": [
       "<table border=\"1\" class=\"dataframe\">\n",
       "  <thead>\n",
       "    <tr style=\"text-align: left;\">\n",
       "      <th>epoch</th>\n",
       "      <th>train_loss</th>\n",
       "      <th>valid_loss</th>\n",
       "      <th>accuracy</th>\n",
       "      <th>time</th>\n",
       "    </tr>\n",
       "  </thead>\n",
       "  <tbody>\n",
       "    <tr>\n",
       "      <td>0</td>\n",
       "      <td>2.465202</td>\n",
       "      <td>00:16</td>\n",
       "    </tr>\n",
       "  </tbody>\n",
       "</table>"
      ],
      "text/plain": [
       "<IPython.core.display.HTML object>"
      ]
     },
     "metadata": {},
     "output_type": "display_data"
    },
    {
     "name": "stderr",
     "output_type": "stream",
     "text": [
      "\n",
      "KeyboardInterrupt\n",
      "\n"
     ]
    }
   ],
   "source": [
    "learn.fine_tune(4, 1e-2)"
   ]
  },
  {
   "cell_type": "markdown",
   "metadata": {},
   "source": [
    "# Export"
   ]
  },
  {
   "cell_type": "code",
   "execution_count": null,
   "metadata": {
    "ExecuteTime": {
     "end_time": "2020-10-12T14:05:21.568216Z",
     "start_time": "2020-10-13T15:50:17.883Z"
    }
   },
   "outputs": [],
   "source": [
    "from nbdev.export import notebook2script\n",
    "notebook2script()"
   ]
  }
 ],
 "metadata": {
  "kernelspec": {
   "display_name": "Python 3",
   "language": "python",
   "name": "python3"
  },
  "language_info": {
   "codemirror_mode": {
    "name": "ipython",
    "version": 3
   },
   "file_extension": ".py",
   "mimetype": "text/x-python",
   "name": "python",
   "nbconvert_exporter": "python",
   "pygments_lexer": "ipython3",
   "version": "3.7.6"
  },
  "toc": {
   "base_numbering": 1,
   "nav_menu": {},
   "number_sections": false,
   "sideBar": true,
   "skip_h1_title": false,
   "title_cell": "Table of Contents",
   "title_sidebar": "Contents",
   "toc_cell": false,
   "toc_position": {
    "height": "calc(100% - 180px)",
    "left": "10px",
    "top": "150px",
    "width": "304.475px"
   },
   "toc_section_display": true,
   "toc_window_display": false
  }
 },
 "nbformat": 4,
 "nbformat_minor": 2
}
