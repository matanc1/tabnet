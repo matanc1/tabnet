{
 "cells": [
  {
   "cell_type": "code",
   "execution_count": 1,
   "metadata": {
    "ExecuteTime": {
     "end_time": "2020-11-01T18:49:25.388730Z",
     "start_time": "2020-11-01T18:49:25.370493Z"
    }
   },
   "outputs": [],
   "source": [
    "%load_ext autoreload\n",
    "%autoreload 2 \n",
    "#default_exp utils"
   ]
  },
  {
   "cell_type": "code",
   "execution_count": 2,
   "metadata": {
    "ExecuteTime": {
     "end_time": "2020-11-01T18:49:26.373006Z",
     "start_time": "2020-11-01T18:49:25.542065Z"
    }
   },
   "outputs": [],
   "source": [
    "#exporti\n",
    "from fastai.tabular.all import * \n",
    "from tabnet.model import * "
   ]
  },
  {
   "cell_type": "code",
   "execution_count": 3,
   "metadata": {
    "ExecuteTime": {
     "end_time": "2020-11-01T18:49:26.378001Z",
     "start_time": "2020-11-01T18:49:26.374887Z"
    }
   },
   "outputs": [],
   "source": [
    "from IPython.core.interactiveshell import InteractiveShell\n",
    "InteractiveShell.ast_node_interactivity = \"all\""
   ]
  },
  {
   "cell_type": "markdown",
   "metadata": {},
   "source": [
    " "
   ]
  },
  {
   "cell_type": "markdown",
   "metadata": {},
   "source": [
    "# Model creating functions"
   ]
  },
  {
   "cell_type": "markdown",
   "metadata": {},
   "source": [
    "### classifier"
   ]
  },
  {
   "cell_type": "code",
   "execution_count": 4,
   "metadata": {
    "ExecuteTime": {
     "end_time": "2020-11-01T18:49:26.734447Z",
     "start_time": "2020-11-01T18:49:26.730660Z"
    }
   },
   "outputs": [],
   "source": [
    "#export\n",
    "@delegates(TabNetBase.__init__)\n",
    "def TabNetClassifier(head_func, to, **kwargs):\n",
    "    return TabNet(head_func, emb_szs=get_emb_sz(to), n_cont=len(to.cont_names), n_out=to.c, **kwargs)"
   ]
  },
  {
   "cell_type": "markdown",
   "metadata": {},
   "source": [
    "### self supervised"
   ]
  },
  {
   "cell_type": "code",
   "execution_count": 5,
   "metadata": {
    "ExecuteTime": {
     "end_time": "2020-11-01T18:49:27.600041Z",
     "start_time": "2020-11-01T18:49:27.595711Z"
    }
   },
   "outputs": [],
   "source": [
    "#export\n",
    "@delegates(TabNetBase.__init__)\n",
    "def TabNetSelfSupervised(head_func, to, bs=1024, **kwargs):\n",
    "    n_out = len(get_emb_sz(to)) + len(to.cont_names)\n",
    "    return TabNet(head_func, emb_szs=get_emb_sz(to), n_cont=len(to.cont_names), n_out=n_out, **kwargs)"
   ]
  },
  {
   "cell_type": "markdown",
   "metadata": {},
   "source": [
    "# Self Supervised Data Loader "
   ]
  },
  {
   "cell_type": "code",
   "execution_count": 6,
   "metadata": {
    "ExecuteTime": {
     "end_time": "2020-11-01T18:49:28.225882Z",
     "start_time": "2020-11-01T18:49:28.222455Z"
    }
   },
   "outputs": [],
   "source": [
    "#exporti\n",
    "def _maybe_expand(o): return o[:,None] if o.ndim==1 else o"
   ]
  },
  {
   "cell_type": "code",
   "execution_count": 7,
   "metadata": {
    "ExecuteTime": {
     "end_time": "2020-11-01T18:49:28.623431Z",
     "start_time": "2020-11-01T18:49:28.615819Z"
    }
   },
   "outputs": [],
   "source": [
    "#export\n",
    "class ReadTabBatchIdentity(ItemTransform):\n",
    "    \n",
    "    def __init__(self, to): store_attr()\n",
    "        \n",
    "    def encodes(self, to):\n",
    "        if not to.with_cont: res = (tensor(to.cats).long(),)\n",
    "        else: res = (tensor(to.cats).long(),tensor(to.conts).float())\n",
    "        res = res + res #\n",
    "        if to.device is not None: res = to_device(res, to.device)\n",
    "        return res \n",
    "    \n",
    "    \n",
    "    def decodes(self, o):\n",
    "        o = o[0:2]\n",
    "        o = [_maybe_expand(o_) for o_ in to_np(o) if o_.size != 0]\n",
    "        vals = np.concatenate(o, axis=1)\n",
    "        try: df = pd.DataFrame(vals, columns=self.to.all_col_names)\n",
    "        except: df = pd.DataFrame(vals, columns=self.to.x_names)\n",
    "        to = self.to.new(df)\n",
    "        return to"
   ]
  },
  {
   "cell_type": "code",
   "execution_count": 8,
   "metadata": {
    "ExecuteTime": {
     "end_time": "2020-11-01T18:49:29.041178Z",
     "start_time": "2020-11-01T18:49:29.038152Z"
    }
   },
   "outputs": [],
   "source": [
    "#export\n",
    "class TabularPandasIdentity(TabularPandas): pass "
   ]
  },
  {
   "cell_type": "code",
   "execution_count": 9,
   "metadata": {
    "ExecuteTime": {
     "end_time": "2020-11-01T18:49:29.253245Z",
     "start_time": "2020-11-01T18:49:29.247839Z"
    }
   },
   "outputs": [],
   "source": [
    "#export\n",
    "@delegates()\n",
    "class TabDataLoaderIdentity(TabDataLoader):\n",
    "    do_item = noops\n",
    "    def __init__(self, dataset, bs=16, shuffle=False, after_batch=None, num_workers=0, **kwargs):\n",
    "        if after_batch is None: after_batch = L(TransformBlock().batch_tfms)+ReadTabBatchIdentity(dataset)\n",
    "        super().__init__(dataset, bs=bs, shuffle=shuffle, after_batch=after_batch, num_workers=num_workers, **kwargs)\n",
    "\n",
    "    def create_batch(self, b): return self.dataset.iloc[b]\n",
    "\n",
    "TabularPandasIdentity._dl_type = TabDataLoaderIdentity"
   ]
  },
  {
   "cell_type": "markdown",
   "metadata": {},
   "source": [
    "# Experiment Helpers "
   ]
  },
  {
   "cell_type": "code",
   "execution_count": null,
   "metadata": {
    "ExecuteTime": {
     "end_time": "2020-10-31T22:02:39.432689Z",
     "start_time": "2020-10-31T22:02:39.428421Z"
    }
   },
   "outputs": [],
   "source": [
    "#export\n",
    "def tabular_pandas(df, cat_names, cont_names, y_names, val_pct=0.2, tabular_type=TabularPandas):\n",
    "    splits = RandomSplitter(valid_pct=val_pct)(range_of(df))\n",
    "    to = tabular_type(df, procs=[Categorify, FillMissing,Normalize], cont_names=cont_names, cat_names=cat_names,\n",
    "                           y_names=y_names, splits=splits, y_block=CategoryBlock())\n",
    "    return to"
   ]
  },
  {
   "cell_type": "code",
   "execution_count": null,
   "metadata": {
    "ExecuteTime": {
     "end_time": "2020-10-31T22:02:39.589566Z",
     "start_time": "2020-10-31T22:02:39.584274Z"
    }
   },
   "outputs": [],
   "source": [
    "#export \n",
    "@delegates(TabNetClassifier)\n",
    "def tabnet_df_classifier(df, cat_names, cont_names, y_names, val_pct, head=linear_head, cbs=[], enc=None, **kwargs):\n",
    "    to = tabular_pandas(df, cat_names, cont_names, y_names, val_pct=val_pct)\n",
    "    dls = to.dataloaders(bs=kwargs['bs'])\n",
    "    model = TabNetClassifier(head, to, **kwargs)\n",
    "    if enc is not None: model.enc = enc\n",
    "    cbs=[SetPrior(), MaskRegularizer(kwargs['lambda_sparse']), *cbs]\n",
    "    return Learner(dls, model, CrossEntropyLossFlat(), cbs=cbs, metrics=[accuracy])"
   ]
  },
  {
   "cell_type": "code",
   "execution_count": null,
   "metadata": {
    "ExecuteTime": {
     "end_time": "2020-10-31T22:02:39.760960Z",
     "start_time": "2020-10-31T22:02:39.755242Z"
    }
   },
   "outputs": [],
   "source": [
    "#export\n",
    "@delegates(TabNetSelfSupervised)\n",
    "def tabnet_df_self_sup(df, cat_names, cont_names, y_names, val_pct, head=tabnet_decoder, \n",
    "                       loss_func=MaskReconstructionLoss(), cbs=[], curriculum=False, p=0.8, **kwargs):\n",
    "    to = tabular_pandas(df, cat_names, cont_names, y_names, tabular_type=TabularPandasIdentity, val_pct=val_pct)\n",
    "    dls = to.dataloaders(bs=kwargs['bs'])\n",
    "    dls.n_inp = 2\n",
    "    cbs = [SetPrior(), TabularMasking(p=p, curriculum=curriculum), MaskRegularizer(kwargs['lambda_sparse']), *cbs]\n",
    "    model = TabNetSelfSupervised(head, to, **kwargs)\n",
    "    return Learner(dls, model, cbs=cbs, loss_func=loss_func, metrics=[mse])"
   ]
  },
  {
   "cell_type": "code",
   "execution_count": null,
   "metadata": {
    "ExecuteTime": {
     "end_time": "2020-10-31T22:21:12.917606Z",
     "start_time": "2020-10-31T22:21:12.909938Z"
    }
   },
   "outputs": [],
   "source": [
    "#export \n",
    "@delegates(tabnet_df_self_sup)\n",
    "def score_before_after_ss(df, ds_params, val_pct, decoder_head, loss_func, cycle_lr, **kwargs):\n",
    "    print(kwargs)\n",
    "    learn = tabnet_df_classifier(df, **ds_params, val_pct=val_pct, **kwargs)\n",
    "    learn.dls.train.bs = learn.dls.train.n//2 if learn.dls.train.n < learn.dls.bs else learn.dls.bs\n",
    "    learn.fit_one_cycle(*cycle_lr[0])\n",
    "    before = accuracy(*learn.get_preds())\n",
    "    \n",
    "    learn_ss = tabnet_df_self_sup(df, **ds_params, val_pct=0.2, head=decoder_head, loss_func=loss_func,\n",
    "                                  **kwargs)\n",
    "    learn_ss.fit_one_cycle(*cycle_lr[1])\n",
    "    \n",
    "    bs = learn.dls.train.n//2 if learn.dls.train.n < learn.dls.bs else learn.dls.bs\n",
    "    mp = {**kwargs, 'virtual_batch_size':bs}\n",
    "    learn = tabnet_df_classifier(df, **ds_params, val_pct=val_pct, enc=learn_ss.model.enc, **mp)\n",
    "    learn.dls.train.bs = bs\n",
    "    learn.fit_one_cycle(*cycle_lr[2])\n",
    "    after = accuracy(*learn.get_preds())\n",
    "\n",
    "    return (before, after)"
   ]
  },
  {
   "cell_type": "markdown",
   "metadata": {},
   "source": [
    "# Export"
   ]
  },
  {
   "cell_type": "code",
   "execution_count": null,
   "metadata": {
    "ExecuteTime": {
     "end_time": "2020-11-01T00:18:38.386960Z",
     "start_time": "2020-11-01T00:18:37.987117Z"
    }
   },
   "outputs": [],
   "source": [
    "from nbdev.export import notebook2script\n",
    "notebook2script()"
   ]
  }
 ],
 "metadata": {
  "environment": {
   "name": "pytorch-gpu.1-4.m50",
   "type": "gcloud",
   "uri": "gcr.io/deeplearning-platform-release/pytorch-gpu.1-4:m50"
  },
  "kernelspec": {
   "display_name": "Python 3",
   "language": "python",
   "name": "python3"
  },
  "language_info": {
   "codemirror_mode": {
    "name": "ipython",
    "version": 3
   },
   "file_extension": ".py",
   "mimetype": "text/x-python",
   "name": "python",
   "nbconvert_exporter": "python",
   "pygments_lexer": "ipython3",
   "version": "3.7.6"
  },
  "toc": {
   "base_numbering": 1,
   "nav_menu": {},
   "number_sections": false,
   "sideBar": true,
   "skip_h1_title": false,
   "title_cell": "Table of Contents",
   "title_sidebar": "Contents",
   "toc_cell": false,
   "toc_position": {
    "height": "calc(100% - 180px)",
    "left": "10px",
    "top": "150px",
    "width": "304.475px"
   },
   "toc_section_display": true,
   "toc_window_display": false
  }
 },
 "nbformat": 4,
 "nbformat_minor": 2
}
