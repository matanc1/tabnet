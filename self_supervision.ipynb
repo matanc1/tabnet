{
 "cells": [
  {
   "cell_type": "code",
   "execution_count": 1,
   "metadata": {
    "ExecuteTime": {
     "end_time": "2020-10-31T17:58:33.961883Z",
     "start_time": "2020-10-31T17:58:33.945033Z"
    }
   },
   "outputs": [],
   "source": [
    "%load_ext autoreload\n",
    "%autoreload 2 "
   ]
  },
  {
   "cell_type": "code",
   "execution_count": 2,
   "metadata": {
    "ExecuteTime": {
     "end_time": "2020-10-31T17:58:34.951550Z",
     "start_time": "2020-10-31T17:58:34.153025Z"
    }
   },
   "outputs": [],
   "source": [
    "from fastai.tabular.all import * \n",
    "from mock import Mock\n",
    "from tabnet.utils import *\n",
    "from tabnet.model import *"
   ]
  },
  {
   "cell_type": "code",
   "execution_count": 3,
   "metadata": {
    "ExecuteTime": {
     "end_time": "2020-10-31T17:58:34.974914Z",
     "start_time": "2020-10-31T17:58:34.953245Z"
    }
   },
   "outputs": [],
   "source": [
    "from sklearn.datasets import load_iris\n",
    "from sklearn.model_selection import train_test_split"
   ]
  },
  {
   "cell_type": "code",
   "execution_count": 17,
   "metadata": {
    "ExecuteTime": {
     "end_time": "2020-10-31T17:59:22.661811Z",
     "start_time": "2020-10-31T17:59:22.654374Z"
    }
   },
   "outputs": [],
   "source": [
    "class LinDecoder(Module):\n",
    "    def __init__(self, n_cat, n_cont, cats, ps=0.1, n_steps=5, n_d=12, **kwargs):\n",
    "        store_attr()\n",
    "        self.activation_cats = sum([v for k,v in cats.items()])\n",
    "        \n",
    "        self.decoder = nn.Sequential(\n",
    "            LinBnDrop(n_d, 256, p=ps, act=Mish()),\n",
    "            LinBnDrop(256, 512, p=ps, act=Mish()),\n",
    "            LinBnDrop(512, 1024, p=ps, act=Mish())\n",
    "        )\n",
    "        \n",
    "        self.decoder_cont = nn.Sequential(\n",
    "            LinBnDrop(1024, n_cont, p=ps, bn=False, act=None),\n",
    "        )\n",
    "        \n",
    "        self.decoder_cat = LinBnDrop(1024, self.activation_cats, p=ps, bn=False, act=None)\n",
    "\n",
    "        \n",
    "    def forward(self, x):\n",
    "        xs = x.sum(dim=1)\n",
    "        decoded = self.decoder(xs)\n",
    "        decoded_cats = self.decoder_cat(decoded)\n",
    "        decoded_conts = self.decoder_cont(decoded)\n",
    "\n",
    "        return decoded_cats, decoded_conts"
   ]
  },
  {
   "cell_type": "code",
   "execution_count": 18,
   "metadata": {
    "ExecuteTime": {
     "end_time": "2020-10-31T17:59:31.907271Z",
     "start_time": "2020-10-31T17:59:31.900342Z"
    }
   },
   "outputs": [],
   "source": [
    "class RecreatedLoss(Module):\n",
    "    \"Measures how well we have created the original tabular inputs\"\n",
    "    def __init__(self, cat_dict):\n",
    "        ce = CrossEntropyLossFlat(reduction='sum')\n",
    "        mse = MSELossFlat(reduction='sum')\n",
    "        store_attr('cat_dict,ce,mse')\n",
    "\n",
    "    def forward(self, preds, cat_targs, cont_targs):\n",
    "        cats, conts = preds\n",
    "        tot_ce, pos = cats.new([0]), 0\n",
    "        for i, (k,v) in enumerate(self.cat_dict.items()):\n",
    "            tot_ce += self.ce(cats[:, pos:pos+v], cat_targs[:,i])\n",
    "            pos += v\n",
    "        \n",
    "        norm_cats = cats.new([len(self.cat_dict)])\n",
    "        norm_conts = conts.new([conts.size(1)])\n",
    "        cat_loss = tot_ce/norm_cats\n",
    "        cont_loss = self.mse(conts, cont_targs)/norm_conts\n",
    "        total = cat_loss+cont_loss\n",
    "\n",
    "        return total / cats.size(0)"
   ]
  },
  {
   "cell_type": "code",
   "execution_count": 19,
   "metadata": {
    "ExecuteTime": {
     "end_time": "2020-10-31T17:59:32.438563Z",
     "start_time": "2020-10-31T17:59:32.435309Z"
    }
   },
   "outputs": [],
   "source": [
    "def lin_decoder(n_cat, n_cont, **kwargs):\n",
    "    return LinDecoder(n_cat, n_cont, **kwargs)"
   ]
  },
  {
   "cell_type": "markdown",
   "metadata": {},
   "source": [
    "# Tests"
   ]
  },
  {
   "cell_type": "markdown",
   "metadata": {},
   "source": [
    "### SS Forest"
   ]
  },
  {
   "cell_type": "code",
   "execution_count": 20,
   "metadata": {
    "ExecuteTime": {
     "end_time": "2020-10-31T17:59:34.090907Z",
     "start_time": "2020-10-31T17:59:34.087952Z"
    }
   },
   "outputs": [],
   "source": [
    "data_dir = Path('./data')"
   ]
  },
  {
   "cell_type": "code",
   "execution_count": 21,
   "metadata": {
    "ExecuteTime": {
     "end_time": "2020-10-31T17:59:34.464465Z",
     "start_time": "2020-10-31T17:59:34.460323Z"
    }
   },
   "outputs": [],
   "source": [
    "def extract_gzip(file, dest=None):\n",
    "    import gzip\n",
    "    dest = dest or Path(dest)\n",
    "    with gzip.open(file, 'rb') as f_in:\n",
    "        with open(dest / file.stem, 'wb') as f_out:\n",
    "            shutil.copyfileobj(f_in, f_out)"
   ]
  },
  {
   "cell_type": "code",
   "execution_count": 22,
   "metadata": {
    "ExecuteTime": {
     "end_time": "2020-10-31T17:59:34.663264Z",
     "start_time": "2020-10-31T17:59:34.656841Z"
    }
   },
   "outputs": [],
   "source": [
    "forest_type_url = 'https://archive.ics.uci.edu/ml/machine-learning-databases/covtype/covtype.data.gz'\n",
    "forest_path = untar_data(forest_type_url, dest=data_dir, extract_func=extract_gzip)"
   ]
  },
  {
   "cell_type": "code",
   "execution_count": 23,
   "metadata": {
    "ExecuteTime": {
     "end_time": "2020-10-31T17:59:35.014685Z",
     "start_time": "2020-10-31T17:59:35.007416Z"
    }
   },
   "outputs": [],
   "source": [
    "target = \"Covertype\"\n",
    "\n",
    "cat_names = [\n",
    "    \"Wilderness_Area1\", \"Wilderness_Area2\", \"Wilderness_Area3\",\n",
    "    \"Wilderness_Area4\", \"Soil_Type1\", \"Soil_Type2\", \"Soil_Type3\", \"Soil_Type4\",\n",
    "    \"Soil_Type5\", \"Soil_Type6\", \"Soil_Type7\", \"Soil_Type8\", \"Soil_Type9\",\n",
    "    \"Soil_Type10\", \"Soil_Type11\", \"Soil_Type12\", \"Soil_Type13\", \"Soil_Type14\",\n",
    "    \"Soil_Type15\", \"Soil_Type16\", \"Soil_Type17\", \"Soil_Type18\", \"Soil_Type19\",\n",
    "    \"Soil_Type20\", \"Soil_Type21\", \"Soil_Type22\", \"Soil_Type23\", \"Soil_Type24\",\n",
    "    \"Soil_Type25\", \"Soil_Type26\", \"Soil_Type27\", \"Soil_Type28\", \"Soil_Type29\",\n",
    "    \"Soil_Type30\", \"Soil_Type31\", \"Soil_Type32\", \"Soil_Type33\", \"Soil_Type34\",\n",
    "    \"Soil_Type35\", \"Soil_Type36\", \"Soil_Type37\", \"Soil_Type38\", \"Soil_Type39\",\n",
    "    \"Soil_Type40\"\n",
    "]\n",
    "\n",
    "cont_names = [\n",
    "    \"Elevation\", \"Aspect\", \"Slope\", \"Horizontal_Distance_To_Hydrology\",\n",
    "    \"Vertical_Distance_To_Hydrology\", \"Horizontal_Distance_To_Roadways\",\n",
    "    \"Hillshade_9am\", \"Hillshade_Noon\", \"Hillshade_3pm\",\n",
    "    \"Horizontal_Distance_To_Fire_Points\"\n",
    "]\n",
    "\n",
    "feature_columns = (\n",
    "    cont_names + cat_names + [target])\n",
    "\n",
    "params = dict(cont_names = cont_names, y_names = target, cat_names = cat_names)\n",
    "procs=[Categorify, FillMissing, Normalize]\n",
    "model_params = dict(n_d=64, n_a=64, n_steps=5, virtual_batch_size=512, gamma=1.5, bs=1024*16,\n",
    "                    lambda_sparse=1e-4, momentum=0.7, n_shared_ft_blocks=2, n_independent_ft_blocks=2, p=0.5)"
   ]
  },
  {
   "cell_type": "code",
   "execution_count": 24,
   "metadata": {
    "ExecuteTime": {
     "end_time": "2020-10-31T17:59:36.804853Z",
     "start_time": "2020-10-31T17:59:35.372262Z"
    }
   },
   "outputs": [
    {
     "data": {
      "text/plain": [
       "(200000, 55)"
      ]
     },
     "execution_count": 24,
     "metadata": {},
     "output_type": "execute_result"
    }
   ],
   "source": [
    "df = pd.read_csv(forest_path, header=None, names=feature_columns).sample(n=200_000)\n",
    "df.shape"
   ]
  },
  {
   "cell_type": "code",
   "execution_count": 42,
   "metadata": {
    "ExecuteTime": {
     "end_time": "2020-10-31T18:06:22.627368Z",
     "start_time": "2020-10-31T18:06:22.624467Z"
    }
   },
   "outputs": [],
   "source": [
    "val_pct = 0.2\n",
    "curriculum = False\n"
   ]
  },
  {
   "cell_type": "code",
   "execution_count": 43,
   "metadata": {
    "ExecuteTime": {
     "end_time": "2020-10-31T18:06:26.534840Z",
     "start_time": "2020-10-31T18:06:25.074670Z"
    }
   },
   "outputs": [],
   "source": [
    "to = tabular_pandas(df, cat_names, cont_names, target, \n",
    "                    tabular_type=TabularPandasIdentity, val_pct=val_pct)\n",
    "total_cats = {k:len(v) for k,v in to.classes.items()}\n",
    "loss_func = RecreatedLoss(total_cats)\n",
    "\n",
    "head = lambda n_cat, n_cont, **kwargs: LinDecoder(n_cat, n_cont, total_cats, **kwargs)"
   ]
  },
  {
   "cell_type": "code",
   "execution_count": 44,
   "metadata": {
    "ExecuteTime": {
     "end_time": "2020-10-31T18:06:26.583023Z",
     "start_time": "2020-10-31T18:06:26.536504Z"
    }
   },
   "outputs": [],
   "source": [
    "dls = to.dataloaders(bs=model_params['bs'])\n",
    "dls.n_inp = 2\n",
    "cbs = [SetPrior(), TabularMasking(p=model_params['p'], curriculum=curriculum)]\n",
    "model = TabNetSelfSupervised(head, to, **model_params)"
   ]
  },
  {
   "cell_type": "code",
   "execution_count": 45,
   "metadata": {
    "ExecuteTime": {
     "end_time": "2020-10-31T18:06:30.875344Z",
     "start_time": "2020-10-31T18:06:30.871174Z"
    }
   },
   "outputs": [],
   "source": [
    "learn = Learner(dls, model, cbs=cbs, loss_func=loss_func)"
   ]
  },
  {
   "cell_type": "code",
   "execution_count": 29,
   "metadata": {
    "ExecuteTime": {
     "end_time": "2020-10-31T18:00:10.152473Z",
     "start_time": "2020-10-31T17:59:39.736919Z"
    },
    "scrolled": false
   },
   "outputs": [
    {
     "data": {
      "text/html": [],
      "text/plain": [
       "<IPython.core.display.HTML object>"
      ]
     },
     "metadata": {},
     "output_type": "display_data"
    },
    {
     "data": {
      "text/plain": [
       "SuggestedLRs(lr_min=0.0013182567432522773, lr_steep=0.0014454397605732083)"
      ]
     },
     "execution_count": 29,
     "metadata": {},
     "output_type": "execute_result"
    },
    {
     "data": {
      "image/png": "[encoded data removed]",
      "text/plain": [
       "<Figure size 432x288 with 1 Axes>"
      ]
     },
     "metadata": {
      "needs_background": "light"
     },
     "output_type": "display_data"
    }
   ],
   "source": [
    "learn.lr_find()"
   ]
  },
  {
   "cell_type": "code",
   "execution_count": 46,
   "metadata": {
    "ExecuteTime": {
     "end_time": "2020-10-31T18:09:23.972691Z",
     "start_time": "2020-10-31T18:06:34.809898Z"
    }
   },
   "outputs": [
    {
     "data": {
      "text/html": [
       "<table border=\"1\" class=\"dataframe\">\n",
       "  <thead>\n",
       "    <tr style=\"text-align: left;\">\n",
       "      <th>epoch</th>\n",
       "      <th>train_loss</th>\n",
       "      <th>valid_loss</th>\n",
       "      <th>time</th>\n",
       "    </tr>\n",
       "  </thead>\n",
       "  <tbody>\n",
       "    <tr>\n",
       "      <td>0</td>\n",
       "      <td>1.908894</td>\n",
       "      <td>1.869574</td>\n",
       "      <td>00:04</td>\n",
       "    </tr>\n",
       "    <tr>\n",
       "      <td>1</td>\n",
       "      <td>1.588906</td>\n",
       "      <td>1.142516</td>\n",
       "      <td>00:04</td>\n",
       "    </tr>\n",
       "    <tr>\n",
       "      <td>2</td>\n",
       "      <td>1.424069</td>\n",
       "      <td>1.044721</td>\n",
       "      <td>00:04</td>\n",
       "    </tr>\n",
       "    <tr>\n",
       "      <td>3</td>\n",
       "      <td>1.317930</td>\n",
       "      <td>0.987346</td>\n",
       "      <td>00:04</td>\n",
       "    </tr>\n",
       "    <tr>\n",
       "      <td>4</td>\n",
       "      <td>1.231175</td>\n",
       "      <td>0.944578</td>\n",
       "      <td>00:04</td>\n",
       "    </tr>\n",
       "    <tr>\n",
       "      <td>5</td>\n",
       "      <td>1.156902</td>\n",
       "      <td>0.779229</td>\n",
       "      <td>00:04</td>\n",
       "    </tr>\n",
       "    <tr>\n",
       "      <td>6</td>\n",
       "      <td>1.120852</td>\n",
       "      <td>1.942854</td>\n",
       "      <td>00:04</td>\n",
       "    </tr>\n",
       "    <tr>\n",
       "      <td>7</td>\n",
       "      <td>1.427257</td>\n",
       "      <td>2.502808</td>\n",
       "      <td>00:04</td>\n",
       "    </tr>\n",
       "    <tr>\n",
       "      <td>8</td>\n",
       "      <td>1.429573</td>\n",
       "      <td>1.336167</td>\n",
       "      <td>00:04</td>\n",
       "    </tr>\n",
       "    <tr>\n",
       "      <td>9</td>\n",
       "      <td>1.368324</td>\n",
       "      <td>1.089032</td>\n",
       "      <td>00:04</td>\n",
       "    </tr>\n",
       "    <tr>\n",
       "      <td>10</td>\n",
       "      <td>1.306446</td>\n",
       "      <td>1.013517</td>\n",
       "      <td>00:04</td>\n",
       "    </tr>\n",
       "    <tr>\n",
       "      <td>11</td>\n",
       "      <td>1.251179</td>\n",
       "      <td>0.980450</td>\n",
       "      <td>00:04</td>\n",
       "    </tr>\n",
       "    <tr>\n",
       "      <td>12</td>\n",
       "      <td>1.201072</td>\n",
       "      <td>0.960205</td>\n",
       "      <td>00:04</td>\n",
       "    </tr>\n",
       "    <tr>\n",
       "      <td>13</td>\n",
       "      <td>1.152167</td>\n",
       "      <td>0.925793</td>\n",
       "      <td>00:04</td>\n",
       "    </tr>\n",
       "    <tr>\n",
       "      <td>14</td>\n",
       "      <td>1.106121</td>\n",
       "      <td>0.827479</td>\n",
       "      <td>00:04</td>\n",
       "    </tr>\n",
       "    <tr>\n",
       "      <td>15</td>\n",
       "      <td>1.064310</td>\n",
       "      <td>0.832167</td>\n",
       "      <td>00:04</td>\n",
       "    </tr>\n",
       "    <tr>\n",
       "      <td>16</td>\n",
       "      <td>1.019272</td>\n",
       "      <td>0.775623</td>\n",
       "      <td>00:04</td>\n",
       "    </tr>\n",
       "    <tr>\n",
       "      <td>17</td>\n",
       "      <td>0.978381</td>\n",
       "      <td>0.764708</td>\n",
       "      <td>00:04</td>\n",
       "    </tr>\n",
       "    <tr>\n",
       "      <td>18</td>\n",
       "      <td>0.937646</td>\n",
       "      <td>0.738282</td>\n",
       "      <td>00:04</td>\n",
       "    </tr>\n",
       "    <tr>\n",
       "      <td>19</td>\n",
       "      <td>0.904779</td>\n",
       "      <td>0.730242</td>\n",
       "      <td>00:04</td>\n",
       "    </tr>\n",
       "    <tr>\n",
       "      <td>20</td>\n",
       "      <td>0.877550</td>\n",
       "      <td>0.705157</td>\n",
       "      <td>00:04</td>\n",
       "    </tr>\n",
       "    <tr>\n",
       "      <td>21</td>\n",
       "      <td>0.848547</td>\n",
       "      <td>0.680358</td>\n",
       "      <td>00:04</td>\n",
       "    </tr>\n",
       "    <tr>\n",
       "      <td>22</td>\n",
       "      <td>0.827789</td>\n",
       "      <td>0.649858</td>\n",
       "      <td>00:04</td>\n",
       "    </tr>\n",
       "    <tr>\n",
       "      <td>23</td>\n",
       "      <td>0.808910</td>\n",
       "      <td>0.665171</td>\n",
       "      <td>00:04</td>\n",
       "    </tr>\n",
       "    <tr>\n",
       "      <td>24</td>\n",
       "      <td>0.793192</td>\n",
       "      <td>0.644692</td>\n",
       "      <td>00:04</td>\n",
       "    </tr>\n",
       "    <tr>\n",
       "      <td>25</td>\n",
       "      <td>0.776451</td>\n",
       "      <td>0.702269</td>\n",
       "      <td>00:04</td>\n",
       "    </tr>\n",
       "    <tr>\n",
       "      <td>26</td>\n",
       "      <td>0.760087</td>\n",
       "      <td>0.642562</td>\n",
       "      <td>00:04</td>\n",
       "    </tr>\n",
       "    <tr>\n",
       "      <td>27</td>\n",
       "      <td>0.747076</td>\n",
       "      <td>0.672169</td>\n",
       "      <td>00:04</td>\n",
       "    </tr>\n",
       "    <tr>\n",
       "      <td>28</td>\n",
       "      <td>0.734800</td>\n",
       "      <td>0.687966</td>\n",
       "      <td>00:04</td>\n",
       "    </tr>\n",
       "    <tr>\n",
       "      <td>29</td>\n",
       "      <td>0.723114</td>\n",
       "      <td>0.671794</td>\n",
       "      <td>00:04</td>\n",
       "    </tr>\n",
       "    <tr>\n",
       "      <td>30</td>\n",
       "      <td>0.718846</td>\n",
       "      <td>0.664964</td>\n",
       "      <td>00:04</td>\n",
       "    </tr>\n",
       "    <tr>\n",
       "      <td>31</td>\n",
       "      <td>0.704184</td>\n",
       "      <td>0.626541</td>\n",
       "      <td>00:04</td>\n",
       "    </tr>\n",
       "    <tr>\n",
       "      <td>32</td>\n",
       "      <td>0.693859</td>\n",
       "      <td>0.628722</td>\n",
       "      <td>00:04</td>\n",
       "    </tr>\n",
       "    <tr>\n",
       "      <td>33</td>\n",
       "      <td>0.688285</td>\n",
       "      <td>0.598187</td>\n",
       "      <td>00:04</td>\n",
       "    </tr>\n",
       "    <tr>\n",
       "      <td>34</td>\n",
       "      <td>0.687815</td>\n",
       "      <td>0.640633</td>\n",
       "      <td>00:04</td>\n",
       "    </tr>\n",
       "    <tr>\n",
       "      <td>35</td>\n",
       "      <td>0.679691</td>\n",
       "      <td>0.622768</td>\n",
       "      <td>00:04</td>\n",
       "    </tr>\n",
       "    <tr>\n",
       "      <td>36</td>\n",
       "      <td>0.676246</td>\n",
       "      <td>0.598226</td>\n",
       "      <td>00:04</td>\n",
       "    </tr>\n",
       "    <tr>\n",
       "      <td>37</td>\n",
       "      <td>0.668910</td>\n",
       "      <td>0.655224</td>\n",
       "      <td>00:04</td>\n",
       "    </tr>\n",
       "    <tr>\n",
       "      <td>38</td>\n",
       "      <td>0.666267</td>\n",
       "      <td>0.585655</td>\n",
       "      <td>00:04</td>\n",
       "    </tr>\n",
       "    <tr>\n",
       "      <td>39</td>\n",
       "      <td>0.661692</td>\n",
       "      <td>0.617465</td>\n",
       "      <td>00:04</td>\n",
       "    </tr>\n",
       "  </tbody>\n",
       "</table>"
      ],
      "text/plain": [
       "<IPython.core.display.HTML object>"
      ]
     },
     "metadata": {},
     "output_type": "display_data"
    }
   ],
   "source": [
    "learn.fit_one_cycle(40, slice(1e-3, 1e-2))"
   ]
  },
  {
   "cell_type": "code",
   "execution_count": 54,
   "metadata": {
    "ExecuteTime": {
     "end_time": "2020-10-31T18:11:23.043102Z",
     "start_time": "2020-10-31T18:11:21.672552Z"
    }
   },
   "outputs": [],
   "source": [
    "l = tabnet_df_classifier(df, **params, enc=learn.model.enc, val_pct=0.99, **model_params)"
   ]
  },
  {
   "cell_type": "code",
   "execution_count": 52,
   "metadata": {
    "ExecuteTime": {
     "end_time": "2020-10-31T18:10:25.438419Z",
     "start_time": "2020-10-31T18:10:25.434889Z"
    }
   },
   "outputs": [],
   "source": [
    "l.dls.train.bs = l.dls.train.n//2 if l.dls.train.n < model_params['bs'] else model_params['bs']"
   ]
  },
  {
   "cell_type": "code",
   "execution_count": 38,
   "metadata": {
    "ExecuteTime": {
     "end_time": "2020-10-31T18:04:35.819779Z",
     "start_time": "2020-10-31T18:04:03.846210Z"
    }
   },
   "outputs": [
    {
     "data": {
      "text/html": [],
      "text/plain": [
       "<IPython.core.display.HTML object>"
      ]
     },
     "metadata": {},
     "output_type": "display_data"
    },
    {
     "data": {
      "text/plain": [
       "SuggestedLRs(lr_min=0.15848932266235352, lr_steep=0.0063095735386013985)"
      ]
     },
     "execution_count": 38,
     "metadata": {},
     "output_type": "execute_result"
    },
    {
     "data": {
      "image/png": "[encoded data removed]",
      "text/plain": [
       "<Figure size 432x288 with 1 Axes>"
      ]
     },
     "metadata": {
      "needs_background": "light"
     },
     "output_type": "display_data"
    }
   ],
   "source": [
    "l.lr_find()"
   ]
  },
  {
   "cell_type": "code",
   "execution_count": 53,
   "metadata": {
    "ExecuteTime": {
     "end_time": "2020-10-31T18:11:08.144861Z",
     "start_time": "2020-10-31T18:10:29.148258Z"
    }
   },
   "outputs": [
    {
     "data": {
      "text/html": [
       "<table border=\"1\" class=\"dataframe\">\n",
       "  <thead>\n",
       "    <tr style=\"text-align: left;\">\n",
       "      <th>epoch</th>\n",
       "      <th>train_loss</th>\n",
       "      <th>valid_loss</th>\n",
       "      <th>accuracy</th>\n",
       "      <th>time</th>\n",
       "    </tr>\n",
       "  </thead>\n",
       "  <tbody>\n",
       "    <tr>\n",
       "      <td>0</td>\n",
       "      <td>3.538095</td>\n",
       "      <td>2.258275</td>\n",
       "      <td>0.417500</td>\n",
       "      <td>00:01</td>\n",
       "    </tr>\n",
       "    <tr>\n",
       "      <td>1</td>\n",
       "      <td>2.758635</td>\n",
       "      <td>1.293380</td>\n",
       "      <td>0.564470</td>\n",
       "      <td>00:01</td>\n",
       "    </tr>\n",
       "    <tr>\n",
       "      <td>2</td>\n",
       "      <td>2.199159</td>\n",
       "      <td>1.458296</td>\n",
       "      <td>0.610864</td>\n",
       "      <td>00:01</td>\n",
       "    </tr>\n",
       "    <tr>\n",
       "      <td>3</td>\n",
       "      <td>1.890119</td>\n",
       "      <td>1.304058</td>\n",
       "      <td>0.510970</td>\n",
       "      <td>00:01</td>\n",
       "    </tr>\n",
       "    <tr>\n",
       "      <td>4</td>\n",
       "      <td>1.681231</td>\n",
       "      <td>3.667667</td>\n",
       "      <td>0.321803</td>\n",
       "      <td>00:01</td>\n",
       "    </tr>\n",
       "    <tr>\n",
       "      <td>5</td>\n",
       "      <td>1.542480</td>\n",
       "      <td>7.030847</td>\n",
       "      <td>0.345520</td>\n",
       "      <td>00:01</td>\n",
       "    </tr>\n",
       "    <tr>\n",
       "      <td>6</td>\n",
       "      <td>1.505374</td>\n",
       "      <td>7.981726</td>\n",
       "      <td>0.327152</td>\n",
       "      <td>00:01</td>\n",
       "    </tr>\n",
       "    <tr>\n",
       "      <td>7</td>\n",
       "      <td>1.439189</td>\n",
       "      <td>1.845523</td>\n",
       "      <td>0.506364</td>\n",
       "      <td>00:01</td>\n",
       "    </tr>\n",
       "    <tr>\n",
       "      <td>8</td>\n",
       "      <td>1.373092</td>\n",
       "      <td>1.128844</td>\n",
       "      <td>0.618273</td>\n",
       "      <td>00:01</td>\n",
       "    </tr>\n",
       "    <tr>\n",
       "      <td>9</td>\n",
       "      <td>1.307479</td>\n",
       "      <td>1.112017</td>\n",
       "      <td>0.628803</td>\n",
       "      <td>00:01</td>\n",
       "    </tr>\n",
       "    <tr>\n",
       "      <td>10</td>\n",
       "      <td>1.252355</td>\n",
       "      <td>0.909901</td>\n",
       "      <td>0.626520</td>\n",
       "      <td>00:01</td>\n",
       "    </tr>\n",
       "    <tr>\n",
       "      <td>11</td>\n",
       "      <td>1.202846</td>\n",
       "      <td>0.838460</td>\n",
       "      <td>0.661646</td>\n",
       "      <td>00:01</td>\n",
       "    </tr>\n",
       "    <tr>\n",
       "      <td>12</td>\n",
       "      <td>1.158412</td>\n",
       "      <td>1.026257</td>\n",
       "      <td>0.628525</td>\n",
       "      <td>00:01</td>\n",
       "    </tr>\n",
       "    <tr>\n",
       "      <td>13</td>\n",
       "      <td>1.118790</td>\n",
       "      <td>0.929204</td>\n",
       "      <td>0.642460</td>\n",
       "      <td>00:01</td>\n",
       "    </tr>\n",
       "    <tr>\n",
       "      <td>14</td>\n",
       "      <td>1.084547</td>\n",
       "      <td>0.806667</td>\n",
       "      <td>0.661414</td>\n",
       "      <td>00:01</td>\n",
       "    </tr>\n",
       "    <tr>\n",
       "      <td>15</td>\n",
       "      <td>1.054137</td>\n",
       "      <td>0.815791</td>\n",
       "      <td>0.653773</td>\n",
       "      <td>00:01</td>\n",
       "    </tr>\n",
       "    <tr>\n",
       "      <td>16</td>\n",
       "      <td>1.028789</td>\n",
       "      <td>0.823417</td>\n",
       "      <td>0.642950</td>\n",
       "      <td>00:01</td>\n",
       "    </tr>\n",
       "    <tr>\n",
       "      <td>17</td>\n",
       "      <td>1.004810</td>\n",
       "      <td>0.897737</td>\n",
       "      <td>0.624172</td>\n",
       "      <td>00:01</td>\n",
       "    </tr>\n",
       "    <tr>\n",
       "      <td>18</td>\n",
       "      <td>0.982839</td>\n",
       "      <td>0.737000</td>\n",
       "      <td>0.687399</td>\n",
       "      <td>00:01</td>\n",
       "    </tr>\n",
       "    <tr>\n",
       "      <td>19</td>\n",
       "      <td>0.962467</td>\n",
       "      <td>0.751444</td>\n",
       "      <td>0.686348</td>\n",
       "      <td>00:01</td>\n",
       "    </tr>\n",
       "    <tr>\n",
       "      <td>20</td>\n",
       "      <td>0.944640</td>\n",
       "      <td>0.751524</td>\n",
       "      <td>0.686909</td>\n",
       "      <td>00:01</td>\n",
       "    </tr>\n",
       "    <tr>\n",
       "      <td>21</td>\n",
       "      <td>0.927681</td>\n",
       "      <td>0.739262</td>\n",
       "      <td>0.687217</td>\n",
       "      <td>00:01</td>\n",
       "    </tr>\n",
       "    <tr>\n",
       "      <td>22</td>\n",
       "      <td>0.912605</td>\n",
       "      <td>0.729770</td>\n",
       "      <td>0.695167</td>\n",
       "      <td>00:01</td>\n",
       "    </tr>\n",
       "    <tr>\n",
       "      <td>23</td>\n",
       "      <td>0.898526</td>\n",
       "      <td>0.724919</td>\n",
       "      <td>0.697379</td>\n",
       "      <td>00:01</td>\n",
       "    </tr>\n",
       "    <tr>\n",
       "      <td>24</td>\n",
       "      <td>0.885143</td>\n",
       "      <td>0.718416</td>\n",
       "      <td>0.700566</td>\n",
       "      <td>00:01</td>\n",
       "    </tr>\n",
       "    <tr>\n",
       "      <td>25</td>\n",
       "      <td>0.872732</td>\n",
       "      <td>0.716268</td>\n",
       "      <td>0.700394</td>\n",
       "      <td>00:01</td>\n",
       "    </tr>\n",
       "    <tr>\n",
       "      <td>26</td>\n",
       "      <td>0.861524</td>\n",
       "      <td>0.713013</td>\n",
       "      <td>0.700035</td>\n",
       "      <td>00:01</td>\n",
       "    </tr>\n",
       "    <tr>\n",
       "      <td>27</td>\n",
       "      <td>0.850944</td>\n",
       "      <td>0.708683</td>\n",
       "      <td>0.703212</td>\n",
       "      <td>00:01</td>\n",
       "    </tr>\n",
       "    <tr>\n",
       "      <td>28</td>\n",
       "      <td>0.840800</td>\n",
       "      <td>0.710914</td>\n",
       "      <td>0.703561</td>\n",
       "      <td>00:01</td>\n",
       "    </tr>\n",
       "    <tr>\n",
       "      <td>29</td>\n",
       "      <td>0.831620</td>\n",
       "      <td>0.708681</td>\n",
       "      <td>0.704288</td>\n",
       "      <td>00:01</td>\n",
       "    </tr>\n",
       "  </tbody>\n",
       "</table>"
      ],
      "text/plain": [
       "<IPython.core.display.HTML object>"
      ]
     },
     "metadata": {},
     "output_type": "display_data"
    }
   ],
   "source": [
    "l.fit_one_cycle(30, slice(5e-3, 1e-1))"
   ]
  },
  {
   "cell_type": "code",
   "execution_count": 33,
   "metadata": {
    "ExecuteTime": {
     "end_time": "2020-10-31T18:01:08.383474Z",
     "start_time": "2020-10-31T18:01:05.321177Z"
    },
    "scrolled": false
   },
   "outputs": [
    {
     "data": {
      "text/html": [],
      "text/plain": [
       "<IPython.core.display.HTML object>"
      ]
     },
     "metadata": {},
     "output_type": "display_data"
    }
   ],
   "source": [
    "dl = learn.dls.test_dl(df)\n",
    "preds, targs = learn.get_preds(dl=dl)"
   ]
  },
  {
   "cell_type": "code",
   "execution_count": null,
   "metadata": {
    "ExecuteTime": {
     "end_time": "2020-10-31T17:38:07.804094Z",
     "start_time": "2020-10-31T17:38:07.799461Z"
    }
   },
   "outputs": [],
   "source": [
    "for p, t in zip(preds[0].tolist(), targs[0].tolist()):\n",
    "    print(p, t)"
   ]
  },
  {
   "cell_type": "markdown",
   "metadata": {},
   "source": [
    "### SS Flowers"
   ]
  },
  {
   "cell_type": "code",
   "execution_count": null,
   "metadata": {
    "ExecuteTime": {
     "end_time": "2020-10-31T16:44:03.323814Z",
     "start_time": "2020-10-31T16:44:03.315427Z"
    }
   },
   "outputs": [],
   "source": [
    "data = load_iris()\n",
    "X,y = data['data'], data['target']\n",
    "cont_names = ['s_len', 's_wid', 'p_len', 'p_wid']\n",
    "cat_names = []\n",
    "y_names = 'target'\n",
    "df = pd.concat([pd.DataFrame(X, columns=cont_names),\n",
    "           pd.DataFrame(y, columns=[y_names])], axis=1)"
   ]
  },
  {
   "cell_type": "code",
   "execution_count": null,
   "metadata": {
    "ExecuteTime": {
     "end_time": "2020-10-31T16:46:02.146863Z",
     "start_time": "2020-10-31T16:46:02.142093Z"
    }
   },
   "outputs": [],
   "source": [
    "model_params = dict(n_d=16, n_a=16, n_steps=3, virtual_batch_size=4, gamma=1.5, bs=32,\n",
    "                    lambda_sparse=1e-4, momentum=0.7, n_shared_ft_blocks=2, n_independent_ft_blocks=0, p=0.3)\n",
    "val_pct = 0.2\n",
    "curriculum = False\n",
    "head = lambda n_out, **kwargs: LinDecoder(n_out, **kwargs)\n",
    "loss_func = MSELossFlat()"
   ]
  },
  {
   "cell_type": "code",
   "execution_count": null,
   "metadata": {
    "ExecuteTime": {
     "end_time": "2020-10-31T16:46:04.038777Z",
     "start_time": "2020-10-31T16:46:02.534512Z"
    }
   },
   "outputs": [],
   "source": [
    "to = tabular_pandas(df, cat_names, cont_names, y_names, tabular_type=TabularPandasIdentity, val_pct=val_pct)\n",
    "dls = to.dataloaders(bs=model_params['bs'])\n",
    "dls.n_inp = 2\n",
    "cbs = [SetPrior(), TabularMasking(p=model_params['p'], curriculum=curriculum),\n",
    "       MaskRegularizer(model_params['lambda_sparse'])]\n",
    "model = TabNetSelfSupervised(head, to, **model_params)"
   ]
  },
  {
   "cell_type": "code",
   "execution_count": null,
   "metadata": {
    "ExecuteTime": {
     "end_time": "2020-10-31T16:46:04.506736Z",
     "start_time": "2020-10-31T16:46:04.502430Z"
    }
   },
   "outputs": [],
   "source": [
    "learn = Learner(dls, model, cbs=cbs, loss_func=loss_func, metrics=[mse])"
   ]
  },
  {
   "cell_type": "code",
   "execution_count": null,
   "metadata": {
    "ExecuteTime": {
     "end_time": "2020-10-31T16:46:17.210056Z",
     "start_time": "2020-10-31T16:46:17.204981Z"
    }
   },
   "outputs": [],
   "source": [
    "learn.dls.cpu()"
   ]
  },
  {
   "cell_type": "code",
   "execution_count": null,
   "metadata": {
    "ExecuteTime": {
     "end_time": "2020-10-31T16:46:31.672949Z",
     "start_time": "2020-10-31T16:46:25.983582Z"
    },
    "scrolled": false
   },
   "outputs": [],
   "source": [
    "learn.fit_one_cycle(30, slice(1e-4, 1e-3))"
   ]
  },
  {
   "cell_type": "code",
   "execution_count": null,
   "metadata": {
    "ExecuteTime": {
     "end_time": "2020-10-31T16:46:33.015074Z",
     "start_time": "2020-10-31T16:46:32.913021Z"
    },
    "scrolled": false
   },
   "outputs": [],
   "source": [
    "dl = learn.dls.test_dl(df)\n",
    "preds, targs = learn.get_preds(dl=dl)"
   ]
  },
  {
   "cell_type": "code",
   "execution_count": null,
   "metadata": {
    "ExecuteTime": {
     "end_time": "2020-10-31T17:34:40.275498Z",
     "start_time": "2020-10-31T17:34:39.945708Z"
    }
   },
   "outputs": [],
   "source": [
    "preds[0][:10], targs[0][:10]"
   ]
  },
  {
   "cell_type": "markdown",
   "metadata": {
    "heading_collapsed": true
   },
   "source": [
    "### BaseLine"
   ]
  },
  {
   "cell_type": "code",
   "execution_count": null,
   "metadata": {
    "ExecuteTime": {
     "end_time": "2020-10-31T16:38:16.970965Z",
     "start_time": "2020-10-31T16:38:16.940139Z"
    },
    "hidden": true
   },
   "outputs": [],
   "source": [
    "splits = RandomSplitter()(range_of(df))\n",
    "dls = TabularPandas(df, cat_names=[], cont_names=['s_len', 's_wid', 'p_len', 'p_wid'], splits=splits,\n",
    "              procs=[Categorify, FillMissing, Normalize], y_names='target', y_block=CategoryBlock()).dataloaders(bs=4)"
   ]
  },
  {
   "cell_type": "code",
   "execution_count": null,
   "metadata": {
    "ExecuteTime": {
     "end_time": "2020-10-31T14:35:53.598870Z",
     "start_time": "2020-10-31T14:35:53.467781Z"
    },
    "hidden": true
   },
   "outputs": [],
   "source": [
    "learn = tabular_learner(dls, metrics=[accuracy])"
   ]
  },
  {
   "cell_type": "code",
   "execution_count": null,
   "metadata": {
    "ExecuteTime": {
     "end_time": "2020-10-31T14:35:14.851325Z",
     "start_time": "2020-10-31T14:35:13.620717Z"
    },
    "hidden": true
   },
   "outputs": [],
   "source": [
    "learn.lr_find()"
   ]
  },
  {
   "cell_type": "code",
   "execution_count": null,
   "metadata": {
    "ExecuteTime": {
     "end_time": "2020-10-31T14:35:20.983904Z",
     "start_time": "2020-10-31T14:35:14.853102Z"
    },
    "hidden": true
   },
   "outputs": [],
   "source": [
    "learn.fit_one_cycle(20, 1e-2)"
   ]
  },
  {
   "cell_type": "markdown",
   "metadata": {
    "heading_collapsed": true
   },
   "source": [
    "### TabNet"
   ]
  },
  {
   "cell_type": "code",
   "execution_count": null,
   "metadata": {
    "ExecuteTime": {
     "end_time": "2020-10-31T14:32:18.865345Z",
     "start_time": "2020-10-31T14:32:18.861565Z"
    },
    "hidden": true
   },
   "outputs": [],
   "source": [
    "model_params = dict(n_d=16, n_a=16, n_steps=5, virtual_batch_size=512, gamma=1.5, bs=30,\n",
    "                    lambda_sparse=1e-4, momentum=0.7, n_shared_ft_blocks=2, n_independent_ft_blocks=2)"
   ]
  },
  {
   "cell_type": "code",
   "execution_count": null,
   "metadata": {
    "ExecuteTime": {
     "end_time": "2020-10-31T14:32:18.908974Z",
     "start_time": "2020-10-31T14:32:18.867047Z"
    },
    "hidden": true
   },
   "outputs": [],
   "source": [
    "learn = tabnet_df_classifier(df, cat_names=[], cont_names=['s_len', 's_wid', 'p_len', 'p_wid'],\n",
    "                                                     y_names='target', val_pct=0.2, **model_params)"
   ]
  },
  {
   "cell_type": "code",
   "execution_count": null,
   "metadata": {
    "ExecuteTime": {
     "end_time": "2020-10-31T14:32:19.116123Z",
     "start_time": "2020-10-31T14:32:18.910318Z"
    },
    "hidden": true
   },
   "outputs": [],
   "source": [
    "learn.summary()"
   ]
  },
  {
   "cell_type": "code",
   "execution_count": null,
   "metadata": {
    "ExecuteTime": {
     "end_time": "2020-10-31T14:32:27.221445Z",
     "start_time": "2020-10-31T14:32:21.043951Z"
    },
    "hidden": true
   },
   "outputs": [],
   "source": [
    "learn.lr_find()"
   ]
  },
  {
   "cell_type": "code",
   "execution_count": null,
   "metadata": {
    "ExecuteTime": {
     "end_time": "2020-10-31T14:32:29.676821Z",
     "start_time": "2020-10-31T14:32:27.223305Z"
    },
    "hidden": true
   },
   "outputs": [],
   "source": [
    "learn.fit_one_cycle(10, 1e-2)"
   ]
  },
  {
   "cell_type": "markdown",
   "metadata": {},
   "source": [
    "# Export"
   ]
  },
  {
   "cell_type": "code",
   "execution_count": null,
   "metadata": {
    "ExecuteTime": {
     "end_time": "2020-10-31T14:00:06.325078Z",
     "start_time": "2020-10-31T14:00:06.077852Z"
    }
   },
   "outputs": [],
   "source": [
    "from nbdev.export import notebook2script\n",
    "notebook2script()"
   ]
  }
 ],
 "metadata": {
  "environment": {
   "name": "pytorch-gpu.1-4.m50",
   "type": "gcloud",
   "uri": "gcr.io/deeplearning-platform-release/pytorch-gpu.1-4:m50"
  },
  "kernelspec": {
   "display_name": "Python 3",
   "language": "python",
   "name": "python3"
  },
  "language_info": {
   "codemirror_mode": {
    "name": "ipython",
    "version": 3
   },
   "file_extension": ".py",
   "mimetype": "text/x-python",
   "name": "python",
   "nbconvert_exporter": "python",
   "pygments_lexer": "ipython3",
   "version": "3.7.6"
  },
  "toc": {
   "base_numbering": 1,
   "nav_menu": {},
   "number_sections": false,
   "sideBar": true,
   "skip_h1_title": false,
   "title_cell": "Table of Contents",
   "title_sidebar": "Contents",
   "toc_cell": false,
   "toc_position": {
    "height": "calc(100% - 180px)",
    "left": "10px",
    "top": "150px",
    "width": "304.475px"
   },
   "toc_section_display": true,
   "toc_window_display": false
  }
 },
 "nbformat": 4,
 "nbformat_minor": 2
}
