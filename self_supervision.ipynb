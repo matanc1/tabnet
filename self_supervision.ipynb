{
 "cells": [
  {
   "cell_type": "code",
   "execution_count": 1,
   "metadata": {
    "ExecuteTime": {
     "end_time": "2020-10-31T18:30:32.468816Z",
     "start_time": "2020-10-31T18:30:32.450314Z"
    }
   },
   "outputs": [],
   "source": [
    "%load_ext autoreload\n",
    "%autoreload 2 "
   ]
  },
  {
   "cell_type": "code",
   "execution_count": 2,
   "metadata": {
    "ExecuteTime": {
     "end_time": "2020-10-31T18:30:33.428103Z",
     "start_time": "2020-10-31T18:30:32.627174Z"
    }
   },
   "outputs": [],
   "source": [
    "from fastai.tabular.all import * \n",
    "from mock import Mock\n",
    "from tabnet.utils import *\n",
    "from tabnet.model import *"
   ]
  },
  {
   "cell_type": "code",
   "execution_count": 3,
   "metadata": {
    "ExecuteTime": {
     "end_time": "2020-10-31T18:30:33.451302Z",
     "start_time": "2020-10-31T18:30:33.430063Z"
    }
   },
   "outputs": [],
   "source": [
    "from sklearn.datasets import load_iris\n",
    "from sklearn.model_selection import train_test_split"
   ]
  },
  {
   "cell_type": "code",
   "execution_count": 4,
   "metadata": {
    "ExecuteTime": {
     "end_time": "2020-10-31T18:30:33.459536Z",
     "start_time": "2020-10-31T18:30:33.452943Z"
    }
   },
   "outputs": [],
   "source": [
    "class LinDecoder(Module):\n",
    "    def __init__(self, n_cat, n_cont, n_d, ps=0.1, **kwargs):\n",
    "        store_attr()\n",
    "        \n",
    "        self.decoder = nn.Sequential(\n",
    "            LinBnDrop(n_d, 256, p=ps, act=Mish()),\n",
    "            LinBnDrop(256, 512, p=ps, act=Mish()),\n",
    "            LinBnDrop(512, 1024, p=ps, act=Mish())\n",
    "        )\n",
    "        \n",
    "        self.decoder_cont = nn.Sequential(\n",
    "            LinBnDrop(1024, n_cont, p=ps, bn=False, act=None),\n",
    "        )\n",
    "        \n",
    "        self.decoder_cat = LinBnDrop(1024, n_cat, p=ps, bn=False, act=None)\n",
    "\n",
    "        \n",
    "    def forward(self, x):\n",
    "        xs = x.sum(dim=1)\n",
    "        decoded = self.decoder(xs)\n",
    "        decoded_cats = self.decoder_cat(decoded)\n",
    "        decoded_conts = self.decoder_cont(decoded)\n",
    "\n",
    "        return torch.cat([decoded_cats, decoded_conts], dim=1)"
   ]
  },
  {
   "cell_type": "code",
   "execution_count": 5,
   "metadata": {
    "ExecuteTime": {
     "end_time": "2020-10-31T18:30:33.467785Z",
     "start_time": "2020-10-31T18:30:33.461218Z"
    }
   },
   "outputs": [],
   "source": [
    "class RecreatedLoss(Module):\n",
    "    \"Measures how well we have created the original tabular inputs\"\n",
    "    def __init__(self, cat_dict):\n",
    "        ce = CrossEntropyLossFlat(reduction='sum')\n",
    "        mse = MSELossFlat(reduction='sum')\n",
    "        store_attr('cat_dict,ce,mse')\n",
    "\n",
    "    def forward(self, preds, cat_targs, cont_targs):\n",
    "        cats, conts = preds\n",
    "        tot_ce, pos = cats.new([0]), 0\n",
    "        for i, (k,v) in enumerate(self.cat_dict.items()):\n",
    "            tot_ce += self.ce(cats[:, pos:pos+v], cat_targs[:,i])\n",
    "            pos += v\n",
    "        \n",
    "        norm_cats = cats.new([len(self.cat_dict)])\n",
    "        norm_conts = conts.new([conts.size(1)])\n",
    "        cat_loss = tot_ce/norm_cats\n",
    "        cont_loss = self.mse(conts, cont_targs)/norm_conts\n",
    "        total = cat_loss+cont_loss\n",
    "\n",
    "        return total / cats.size(0)"
   ]
  },
  {
   "cell_type": "code",
   "execution_count": 6,
   "metadata": {
    "ExecuteTime": {
     "end_time": "2020-10-31T18:30:33.553760Z",
     "start_time": "2020-10-31T18:30:33.551060Z"
    }
   },
   "outputs": [],
   "source": [
    "def lin_decoder(n_cat, n_cont, **kwargs):\n",
    "    return LinDecoder(n_cat, n_cont, **kwargs)"
   ]
  },
  {
   "cell_type": "markdown",
   "metadata": {},
   "source": [
    "# Tests"
   ]
  },
  {
   "cell_type": "markdown",
   "metadata": {},
   "source": [
    "### SS Forest"
   ]
  },
  {
   "cell_type": "code",
   "execution_count": 7,
   "metadata": {
    "ExecuteTime": {
     "end_time": "2020-10-31T18:30:34.898194Z",
     "start_time": "2020-10-31T18:30:34.895245Z"
    }
   },
   "outputs": [],
   "source": [
    "data_dir = Path('./data')"
   ]
  },
  {
   "cell_type": "code",
   "execution_count": 8,
   "metadata": {
    "ExecuteTime": {
     "end_time": "2020-10-31T18:30:35.292860Z",
     "start_time": "2020-10-31T18:30:35.288982Z"
    }
   },
   "outputs": [],
   "source": [
    "def extract_gzip(file, dest=None):\n",
    "    import gzip\n",
    "    dest = dest or Path(dest)\n",
    "    with gzip.open(file, 'rb') as f_in:\n",
    "        with open(dest / file.stem, 'wb') as f_out:\n",
    "            shutil.copyfileobj(f_in, f_out)"
   ]
  },
  {
   "cell_type": "code",
   "execution_count": 9,
   "metadata": {
    "ExecuteTime": {
     "end_time": "2020-10-31T18:30:35.772572Z",
     "start_time": "2020-10-31T18:30:35.766981Z"
    }
   },
   "outputs": [],
   "source": [
    "forest_type_url = 'https://archive.ics.uci.edu/ml/machine-learning-databases/covtype/covtype.data.gz'\n",
    "forest_path = untar_data(forest_type_url, dest=data_dir, extract_func=extract_gzip)"
   ]
  },
  {
   "cell_type": "code",
   "execution_count": 50,
   "metadata": {
    "ExecuteTime": {
     "end_time": "2020-10-31T18:43:48.030002Z",
     "start_time": "2020-10-31T18:43:48.022900Z"
    }
   },
   "outputs": [],
   "source": [
    "target = \"Covertype\"\n",
    "\n",
    "cat_names = [\n",
    "    \"Wilderness_Area1\", \"Wilderness_Area2\", \"Wilderness_Area3\",\n",
    "    \"Wilderness_Area4\", \"Soil_Type1\", \"Soil_Type2\", \"Soil_Type3\", \"Soil_Type4\",\n",
    "    \"Soil_Type5\", \"Soil_Type6\", \"Soil_Type7\", \"Soil_Type8\", \"Soil_Type9\",\n",
    "    \"Soil_Type10\", \"Soil_Type11\", \"Soil_Type12\", \"Soil_Type13\", \"Soil_Type14\",\n",
    "    \"Soil_Type15\", \"Soil_Type16\", \"Soil_Type17\", \"Soil_Type18\", \"Soil_Type19\",\n",
    "    \"Soil_Type20\", \"Soil_Type21\", \"Soil_Type22\", \"Soil_Type23\", \"Soil_Type24\",\n",
    "    \"Soil_Type25\", \"Soil_Type26\", \"Soil_Type27\", \"Soil_Type28\", \"Soil_Type29\",\n",
    "    \"Soil_Type30\", \"Soil_Type31\", \"Soil_Type32\", \"Soil_Type33\", \"Soil_Type34\",\n",
    "    \"Soil_Type35\", \"Soil_Type36\", \"Soil_Type37\", \"Soil_Type38\", \"Soil_Type39\",\n",
    "    \"Soil_Type40\"\n",
    "]\n",
    "\n",
    "cont_names = [\n",
    "    \"Elevation\", \"Aspect\", \"Slope\", \"Horizontal_Distance_To_Hydrology\",\n",
    "    \"Vertical_Distance_To_Hydrology\", \"Horizontal_Distance_To_Roadways\",\n",
    "    \"Hillshade_9am\", \"Hillshade_Noon\", \"Hillshade_3pm\",\n",
    "    \"Horizontal_Distance_To_Fire_Points\"\n",
    "]\n",
    "\n",
    "feature_columns = (\n",
    "    cont_names + cat_names + [target])\n",
    "\n",
    "params = dict(cont_names = cont_names, y_names = target, cat_names = cat_names)\n",
    "procs=[Categorify, FillMissing, Normalize]\n",
    "model_params = dict(n_d=64, n_a=64, n_steps=5, virtual_batch_size=512, gamma=1.5, bs=1024*16,\n",
    "                    lambda_sparse=1e-4, momentum=0.7, n_shared_ft_blocks=2, n_independent_ft_blocks=2, p=0.8)"
   ]
  },
  {
   "cell_type": "code",
   "execution_count": 63,
   "metadata": {
    "ExecuteTime": {
     "end_time": "2020-10-31T18:47:38.482712Z",
     "start_time": "2020-10-31T18:47:37.141198Z"
    }
   },
   "outputs": [
    {
     "data": {
      "text/plain": [
       "(200000, 55)"
      ]
     },
     "execution_count": 63,
     "metadata": {},
     "output_type": "execute_result"
    }
   ],
   "source": [
    "df = pd.read_csv(forest_path, header=None, names=feature_columns).sample(n=200_000)\n",
    "df.shape"
   ]
  },
  {
   "cell_type": "code",
   "execution_count": 64,
   "metadata": {
    "ExecuteTime": {
     "end_time": "2020-10-31T18:47:39.339698Z",
     "start_time": "2020-10-31T18:47:39.336760Z"
    }
   },
   "outputs": [],
   "source": [
    "val_pct = 0.2\n",
    "curriculum = True"
   ]
  },
  {
   "cell_type": "code",
   "execution_count": 65,
   "metadata": {
    "ExecuteTime": {
     "end_time": "2020-10-31T18:47:41.917753Z",
     "start_time": "2020-10-31T18:47:40.514606Z"
    }
   },
   "outputs": [],
   "source": [
    "to = tabular_pandas(df, cat_names, cont_names, target, \n",
    "                    tabular_type=TabularPandasIdentity, val_pct=val_pct)\n",
    "loss_func = MaskReconstructionLoss()\n",
    "\n",
    "head = lambda n_cat, n_cont, **kwargs: LinDecoder(n_cat, n_cont, **kwargs)"
   ]
  },
  {
   "cell_type": "code",
   "execution_count": 66,
   "metadata": {
    "ExecuteTime": {
     "end_time": "2020-10-31T18:47:44.942194Z",
     "start_time": "2020-10-31T18:47:44.898241Z"
    }
   },
   "outputs": [],
   "source": [
    "dls = to.dataloaders(bs=model_params['bs'])\n",
    "dls.n_inp = 2\n",
    "cbs = [SetPrior(), TabularMasking(p=model_params['p'], curriculum=curriculum),\n",
    "       MaskRegularizer(model_params['lambda_sparse'])]\n",
    "model = TabNetSelfSupervised(head, to, **model_params)"
   ]
  },
  {
   "cell_type": "code",
   "execution_count": 67,
   "metadata": {
    "ExecuteTime": {
     "end_time": "2020-10-31T18:47:45.152599Z",
     "start_time": "2020-10-31T18:47:45.148197Z"
    }
   },
   "outputs": [],
   "source": [
    "learn = Learner(dls, model, cbs=cbs, loss_func=loss_func, metrics=[mse])"
   ]
  },
  {
   "cell_type": "code",
   "execution_count": 68,
   "metadata": {
    "ExecuteTime": {
     "end_time": "2020-10-31T18:47:50.004231Z",
     "start_time": "2020-10-31T18:47:45.763536Z"
    },
    "scrolled": false
   },
   "outputs": [
    {
     "data": {
      "text/html": [],
      "text/plain": [
       "<IPython.core.display.HTML object>"
      ]
     },
     "metadata": {},
     "output_type": "display_data"
    },
    {
     "data": {
      "image/png": "[encoded data removed]",
      "text/plain": [
       "<Figure size 432x288 with 1 Axes>"
      ]
     },
     "metadata": {
      "needs_background": "light"
     },
     "output_type": "display_data"
    }
   ],
   "source": [
    "learn.lr_find()"
   ]
  },
  {
   "cell_type": "code",
   "execution_count": 69,
   "metadata": {
    "ExecuteTime": {
     "end_time": "2020-10-31T18:49:06.682455Z",
     "start_time": "2020-10-31T18:47:50.006107Z"
    }
   },
   "outputs": [
    {
     "data": {
      "text/html": [
       "<table border=\"1\" class=\"dataframe\">\n",
       "  <thead>\n",
       "    <tr style=\"text-align: left;\">\n",
       "      <th>epoch</th>\n",
       "      <th>train_loss</th>\n",
       "      <th>valid_loss</th>\n",
       "      <th>mse</th>\n",
       "      <th>time</th>\n",
       "    </tr>\n",
       "  </thead>\n",
       "  <tbody>\n",
       "    <tr>\n",
       "      <td>0</td>\n",
       "      <td>0.000112</td>\n",
       "      <td>0.000161</td>\n",
       "      <td>1.110219</td>\n",
       "      <td>00:03</td>\n",
       "    </tr>\n",
       "    <tr>\n",
       "      <td>1</td>\n",
       "      <td>0.031331</td>\n",
       "      <td>0.026094</td>\n",
       "      <td>0.249151</td>\n",
       "      <td>00:03</td>\n",
       "    </tr>\n",
       "    <tr>\n",
       "      <td>2</td>\n",
       "      <td>0.036504</td>\n",
       "      <td>0.050691</td>\n",
       "      <td>0.303689</td>\n",
       "      <td>00:03</td>\n",
       "    </tr>\n",
       "    <tr>\n",
       "      <td>3</td>\n",
       "      <td>0.043857</td>\n",
       "      <td>0.049688</td>\n",
       "      <td>0.254905</td>\n",
       "      <td>00:03</td>\n",
       "    </tr>\n",
       "    <tr>\n",
       "      <td>4</td>\n",
       "      <td>0.056924</td>\n",
       "      <td>0.414289</td>\n",
       "      <td>5.407498</td>\n",
       "      <td>00:03</td>\n",
       "    </tr>\n",
       "    <tr>\n",
       "      <td>5</td>\n",
       "      <td>0.076881</td>\n",
       "      <td>0.132698</td>\n",
       "      <td>0.624818</td>\n",
       "      <td>00:03</td>\n",
       "    </tr>\n",
       "    <tr>\n",
       "      <td>6</td>\n",
       "      <td>0.081537</td>\n",
       "      <td>0.067969</td>\n",
       "      <td>0.266190</td>\n",
       "      <td>00:03</td>\n",
       "    </tr>\n",
       "    <tr>\n",
       "      <td>7</td>\n",
       "      <td>0.078622</td>\n",
       "      <td>0.061870</td>\n",
       "      <td>0.232539</td>\n",
       "      <td>00:03</td>\n",
       "    </tr>\n",
       "    <tr>\n",
       "      <td>8</td>\n",
       "      <td>0.076117</td>\n",
       "      <td>0.069366</td>\n",
       "      <td>0.233446</td>\n",
       "      <td>00:03</td>\n",
       "    </tr>\n",
       "    <tr>\n",
       "      <td>9</td>\n",
       "      <td>0.074459</td>\n",
       "      <td>0.065041</td>\n",
       "      <td>0.228565</td>\n",
       "      <td>00:03</td>\n",
       "    </tr>\n",
       "    <tr>\n",
       "      <td>10</td>\n",
       "      <td>0.073405</td>\n",
       "      <td>0.067427</td>\n",
       "      <td>0.226861</td>\n",
       "      <td>00:03</td>\n",
       "    </tr>\n",
       "    <tr>\n",
       "      <td>11</td>\n",
       "      <td>0.072904</td>\n",
       "      <td>0.065868</td>\n",
       "      <td>0.223945</td>\n",
       "      <td>00:03</td>\n",
       "    </tr>\n",
       "    <tr>\n",
       "      <td>12</td>\n",
       "      <td>0.072012</td>\n",
       "      <td>0.067372</td>\n",
       "      <td>0.223689</td>\n",
       "      <td>00:03</td>\n",
       "    </tr>\n",
       "    <tr>\n",
       "      <td>13</td>\n",
       "      <td>0.071263</td>\n",
       "      <td>0.066197</td>\n",
       "      <td>0.225907</td>\n",
       "      <td>00:03</td>\n",
       "    </tr>\n",
       "    <tr>\n",
       "      <td>14</td>\n",
       "      <td>0.070830</td>\n",
       "      <td>0.067786</td>\n",
       "      <td>0.226053</td>\n",
       "      <td>00:03</td>\n",
       "    </tr>\n",
       "    <tr>\n",
       "      <td>15</td>\n",
       "      <td>0.071120</td>\n",
       "      <td>0.074416</td>\n",
       "      <td>0.225299</td>\n",
       "      <td>00:03</td>\n",
       "    </tr>\n",
       "    <tr>\n",
       "      <td>16</td>\n",
       "      <td>0.071861</td>\n",
       "      <td>0.074537</td>\n",
       "      <td>0.226682</td>\n",
       "      <td>00:03</td>\n",
       "    </tr>\n",
       "    <tr>\n",
       "      <td>17</td>\n",
       "      <td>0.072984</td>\n",
       "      <td>0.076611</td>\n",
       "      <td>0.226727</td>\n",
       "      <td>00:03</td>\n",
       "    </tr>\n",
       "    <tr>\n",
       "      <td>18</td>\n",
       "      <td>0.074559</td>\n",
       "      <td>0.079689</td>\n",
       "      <td>0.226909</td>\n",
       "      <td>00:03</td>\n",
       "    </tr>\n",
       "    <tr>\n",
       "      <td>19</td>\n",
       "      <td>0.077044</td>\n",
       "      <td>0.085579</td>\n",
       "      <td>0.227280</td>\n",
       "      <td>00:03</td>\n",
       "    </tr>\n",
       "  </tbody>\n",
       "</table>"
      ],
      "text/plain": [
       "<IPython.core.display.HTML object>"
      ]
     },
     "metadata": {},
     "output_type": "display_data"
    }
   ],
   "source": [
    "learn.fit_one_cycle(20, slice(1e-3, 1e-2))"
   ]
  },
  {
   "cell_type": "code",
   "execution_count": 70,
   "metadata": {
    "ExecuteTime": {
     "end_time": "2020-10-31T18:49:08.791828Z",
     "start_time": "2020-10-31T18:49:06.684323Z"
    },
    "scrolled": false
   },
   "outputs": [
    {
     "data": {
      "text/html": [],
      "text/plain": [
       "<IPython.core.display.HTML object>"
      ]
     },
     "metadata": {},
     "output_type": "display_data"
    },
    {
     "data": {
      "text/plain": [
       "tensor(0.2224)"
      ]
     },
     "execution_count": 70,
     "metadata": {},
     "output_type": "execute_result"
    }
   ],
   "source": [
    "dl = learn.dls.test_dl(df)\n",
    "preds, targs = learn.get_preds(dl=dl)\n",
    "mse(preds, targs)"
   ]
  },
  {
   "cell_type": "code",
   "execution_count": 71,
   "metadata": {
    "ExecuteTime": {
     "end_time": "2020-10-31T18:49:08.812344Z",
     "start_time": "2020-10-31T18:49:08.793571Z"
    }
   },
   "outputs": [
    {
     "name": "stdout",
     "output_type": "stream",
     "text": [
      "1.068833827972412 1.0\n",
      "1.03619384765625 1.0\n",
      "1.0516360998153687 2.0\n",
      "0.9906684160232544 1.0\n",
      "1.01806640625 1.0\n",
      "1.005189061164856 1.0\n",
      "1.015650749206543 1.0\n",
      "1.0188632011413574 1.0\n",
      "1.0268373489379883 1.0\n",
      "1.0213062763214111 1.0\n",
      "1.0107980966567993 1.0\n",
      "1.0103247165679932 1.0\n",
      "1.000262975692749 1.0\n",
      "1.019930124282837 1.0\n",
      "1.0142916440963745 1.0\n",
      "1.0260813236236572 1.0\n",
      "1.0245400667190552 1.0\n",
      "1.0223112106323242 1.0\n",
      "1.001604676246643 1.0\n",
      "1.0119526386260986 1.0\n",
      "1.0176864862442017 1.0\n",
      "1.0119198560714722 1.0\n",
      "1.00301194190979 1.0\n",
      "1.0071938037872314 1.0\n",
      "0.9923768043518066 1.0\n",
      "1.0253405570983887 1.0\n",
      "1.0244288444519043 1.0\n",
      "1.019844651222229 2.0\n",
      "1.0191831588745117 1.0\n",
      "1.013796091079712 1.0\n",
      "1.0111589431762695 1.0\n",
      "1.0082974433898926 1.0\n",
      "1.018082857131958 1.0\n",
      "1.0289156436920166 1.0\n",
      "1.0075902938842773 1.0\n",
      "1.0086755752563477 1.0\n",
      "1.001900553703308 1.0\n",
      "0.9959983229637146 1.0\n",
      "1.024003028869629 1.0\n",
      "1.0195225477218628 1.0\n",
      "1.0153251886367798 1.0\n",
      "1.0178921222686768 1.0\n",
      "1.0035111904144287 1.0\n",
      "1.019391655921936 1.0\n",
      "-0.19301047921180725 -0.5571122765541077\n",
      "-0.29603415727615356 -1.3273816108703613\n",
      "0.24219907820224762 0.7906876802444458\n",
      "-0.333335816860199 -0.3194255828857422\n",
      "-0.21239209175109863 0.40769144892692566\n",
      "-0.5193874835968018 0.1110159233212471\n",
      "0.10536819696426392 -0.7555610537528992\n",
      "-0.14565496146678925 -1.3887505531311035\n",
      "-0.07512857019901276 -0.1411430835723877\n",
      "-0.4165095090866089 -1.0081995725631714\n"
     ]
    }
   ],
   "source": [
    "for p, t in zip(preds[0].tolist(), targs[0].tolist()):\n",
    "    print(p, t)"
   ]
  },
  {
   "cell_type": "code",
   "execution_count": 72,
   "metadata": {
    "ExecuteTime": {
     "end_time": "2020-10-31T18:49:11.540047Z",
     "start_time": "2020-10-31T18:49:11.532533Z"
    }
   },
   "outputs": [
    {
     "data": {
      "text/plain": [
       "TabNetEnc(\n",
       "  (embeds): ModuleList(\n",
       "    (0): Embedding(3, 3)\n",
       "    (1): Embedding(3, 3)\n",
       "    (2): Embedding(3, 3)\n",
       "    (3): Embedding(3, 3)\n",
       "    (4): Embedding(3, 3)\n",
       "    (5): Embedding(3, 3)\n",
       "    (6): Embedding(3, 3)\n",
       "    (7): Embedding(3, 3)\n",
       "    (8): Embedding(3, 3)\n",
       "    (9): Embedding(3, 3)\n",
       "    (10): Embedding(3, 3)\n",
       "    (11): Embedding(3, 3)\n",
       "    (12): Embedding(3, 3)\n",
       "    (13): Embedding(3, 3)\n",
       "    (14): Embedding(3, 3)\n",
       "    (15): Embedding(3, 3)\n",
       "    (16): Embedding(3, 3)\n",
       "    (17): Embedding(3, 3)\n",
       "    (18): Embedding(3, 3)\n",
       "    (19): Embedding(3, 3)\n",
       "    (20): Embedding(3, 3)\n",
       "    (21): Embedding(3, 3)\n",
       "    (22): Embedding(3, 3)\n",
       "    (23): Embedding(3, 3)\n",
       "    (24): Embedding(3, 3)\n",
       "    (25): Embedding(3, 3)\n",
       "    (26): Embedding(3, 3)\n",
       "    (27): Embedding(3, 3)\n",
       "    (28): Embedding(3, 3)\n",
       "    (29): Embedding(3, 3)\n",
       "    (30): Embedding(3, 3)\n",
       "    (31): Embedding(3, 3)\n",
       "    (32): Embedding(3, 3)\n",
       "    (33): Embedding(3, 3)\n",
       "    (34): Embedding(3, 3)\n",
       "    (35): Embedding(3, 3)\n",
       "    (36): Embedding(3, 3)\n",
       "    (37): Embedding(3, 3)\n",
       "    (38): Embedding(3, 3)\n",
       "    (39): Embedding(3, 3)\n",
       "    (40): Embedding(3, 3)\n",
       "    (41): Embedding(3, 3)\n",
       "    (42): Embedding(3, 3)\n",
       "    (43): Embedding(3, 3)\n",
       "  )\n",
       "  (initial_ft): FeatureTransformer(\n",
       "    (layers): ModuleList(\n",
       "      (0): FeatureTransformerBlock(\n",
       "        (0): Linear(in_features=142, out_features=256, bias=False)\n",
       "        (1): GBN(\n",
       "          (bn): BatchNorm1d(256, eps=1e-05, momentum=0.7, affine=True, track_running_stats=True)\n",
       "        )\n",
       "        (2): GLU(dim=-1)\n",
       "      )\n",
       "      (1): FeatureTransformerBlock(\n",
       "        (0): Linear(in_features=128, out_features=256, bias=False)\n",
       "        (1): GBN(\n",
       "          (bn): BatchNorm1d(256, eps=1e-05, momentum=0.7, affine=True, track_running_stats=True)\n",
       "        )\n",
       "        (2): GLU(dim=-1)\n",
       "      )\n",
       "      (2): FeatureTransformerBlock(\n",
       "        (0): Linear(in_features=128, out_features=256, bias=False)\n",
       "        (1): GBN(\n",
       "          (bn): BatchNorm1d(256, eps=1e-05, momentum=0.7, affine=True, track_running_stats=True)\n",
       "        )\n",
       "        (2): GLU(dim=-1)\n",
       "      )\n",
       "      (3): FeatureTransformerBlock(\n",
       "        (0): Linear(in_features=128, out_features=256, bias=False)\n",
       "        (1): GBN(\n",
       "          (bn): BatchNorm1d(256, eps=1e-05, momentum=0.7, affine=True, track_running_stats=True)\n",
       "        )\n",
       "        (2): GLU(dim=-1)\n",
       "      )\n",
       "    )\n",
       "  )\n",
       "  (initial_bn): BatchNorm1d(142, eps=1e-05, momentum=0.1, affine=True, track_running_stats=True)\n",
       "  (att_steps): ModuleList(\n",
       "    (0): AttentiveTransformer(\n",
       "      (fc): Linear(in_features=64, out_features=142, bias=True)\n",
       "      (bn): GBN(\n",
       "        (bn): BatchNorm1d(142, eps=1e-05, momentum=0.7, affine=True, track_running_stats=True)\n",
       "      )\n",
       "      (sparsemax): Sparsemax()\n",
       "    )\n",
       "    (1): AttentiveTransformer(\n",
       "      (fc): Linear(in_features=64, out_features=142, bias=True)\n",
       "      (bn): GBN(\n",
       "        (bn): BatchNorm1d(142, eps=1e-05, momentum=0.7, affine=True, track_running_stats=True)\n",
       "      )\n",
       "      (sparsemax): Sparsemax()\n",
       "    )\n",
       "    (2): AttentiveTransformer(\n",
       "      (fc): Linear(in_features=64, out_features=142, bias=True)\n",
       "      (bn): GBN(\n",
       "        (bn): BatchNorm1d(142, eps=1e-05, momentum=0.7, affine=True, track_running_stats=True)\n",
       "      )\n",
       "      (sparsemax): Sparsemax()\n",
       "    )\n",
       "    (3): AttentiveTransformer(\n",
       "      (fc): Linear(in_features=64, out_features=142, bias=True)\n",
       "      (bn): GBN(\n",
       "        (bn): BatchNorm1d(142, eps=1e-05, momentum=0.7, affine=True, track_running_stats=True)\n",
       "      )\n",
       "      (sparsemax): Sparsemax()\n",
       "    )\n",
       "    (4): AttentiveTransformer(\n",
       "      (fc): Linear(in_features=64, out_features=142, bias=True)\n",
       "      (bn): GBN(\n",
       "        (bn): BatchNorm1d(142, eps=1e-05, momentum=0.7, affine=True, track_running_stats=True)\n",
       "      )\n",
       "      (sparsemax): Sparsemax()\n",
       "    )\n",
       "  )\n",
       "  (ft_steps): ModuleList(\n",
       "    (0): FeatureTransformer(\n",
       "      (layers): ModuleList(\n",
       "        (0): FeatureTransformerBlock(\n",
       "          (0): Linear(in_features=142, out_features=256, bias=False)\n",
       "          (1): GBN(\n",
       "            (bn): BatchNorm1d(256, eps=1e-05, momentum=0.7, affine=True, track_running_stats=True)\n",
       "          )\n",
       "          (2): GLU(dim=-1)\n",
       "        )\n",
       "        (1): FeatureTransformerBlock(\n",
       "          (0): Linear(in_features=128, out_features=256, bias=False)\n",
       "          (1): GBN(\n",
       "            (bn): BatchNorm1d(256, eps=1e-05, momentum=0.7, affine=True, track_running_stats=True)\n",
       "          )\n",
       "          (2): GLU(dim=-1)\n",
       "        )\n",
       "        (2): FeatureTransformerBlock(\n",
       "          (0): Linear(in_features=128, out_features=256, bias=False)\n",
       "          (1): GBN(\n",
       "            (bn): BatchNorm1d(256, eps=1e-05, momentum=0.7, affine=True, track_running_stats=True)\n",
       "          )\n",
       "          (2): GLU(dim=-1)\n",
       "        )\n",
       "        (3): FeatureTransformerBlock(\n",
       "          (0): Linear(in_features=128, out_features=256, bias=False)\n",
       "          (1): GBN(\n",
       "            (bn): BatchNorm1d(256, eps=1e-05, momentum=0.7, affine=True, track_running_stats=True)\n",
       "          )\n",
       "          (2): GLU(dim=-1)\n",
       "        )\n",
       "      )\n",
       "    )\n",
       "    (1): FeatureTransformer(\n",
       "      (layers): ModuleList(\n",
       "        (0): FeatureTransformerBlock(\n",
       "          (0): Linear(in_features=142, out_features=256, bias=False)\n",
       "          (1): GBN(\n",
       "            (bn): BatchNorm1d(256, eps=1e-05, momentum=0.7, affine=True, track_running_stats=True)\n",
       "          )\n",
       "          (2): GLU(dim=-1)\n",
       "        )\n",
       "        (1): FeatureTransformerBlock(\n",
       "          (0): Linear(in_features=128, out_features=256, bias=False)\n",
       "          (1): GBN(\n",
       "            (bn): BatchNorm1d(256, eps=1e-05, momentum=0.7, affine=True, track_running_stats=True)\n",
       "          )\n",
       "          (2): GLU(dim=-1)\n",
       "        )\n",
       "        (2): FeatureTransformerBlock(\n",
       "          (0): Linear(in_features=128, out_features=256, bias=False)\n",
       "          (1): GBN(\n",
       "            (bn): BatchNorm1d(256, eps=1e-05, momentum=0.7, affine=True, track_running_stats=True)\n",
       "          )\n",
       "          (2): GLU(dim=-1)\n",
       "        )\n",
       "        (3): FeatureTransformerBlock(\n",
       "          (0): Linear(in_features=128, out_features=256, bias=False)\n",
       "          (1): GBN(\n",
       "            (bn): BatchNorm1d(256, eps=1e-05, momentum=0.7, affine=True, track_running_stats=True)\n",
       "          )\n",
       "          (2): GLU(dim=-1)\n",
       "        )\n",
       "      )\n",
       "    )\n",
       "    (2): FeatureTransformer(\n",
       "      (layers): ModuleList(\n",
       "        (0): FeatureTransformerBlock(\n",
       "          (0): Linear(in_features=142, out_features=256, bias=False)\n",
       "          (1): GBN(\n",
       "            (bn): BatchNorm1d(256, eps=1e-05, momentum=0.7, affine=True, track_running_stats=True)\n",
       "          )\n",
       "          (2): GLU(dim=-1)\n",
       "        )\n",
       "        (1): FeatureTransformerBlock(\n",
       "          (0): Linear(in_features=128, out_features=256, bias=False)\n",
       "          (1): GBN(\n",
       "            (bn): BatchNorm1d(256, eps=1e-05, momentum=0.7, affine=True, track_running_stats=True)\n",
       "          )\n",
       "          (2): GLU(dim=-1)\n",
       "        )\n",
       "        (2): FeatureTransformerBlock(\n",
       "          (0): Linear(in_features=128, out_features=256, bias=False)\n",
       "          (1): GBN(\n",
       "            (bn): BatchNorm1d(256, eps=1e-05, momentum=0.7, affine=True, track_running_stats=True)\n",
       "          )\n",
       "          (2): GLU(dim=-1)\n",
       "        )\n",
       "        (3): FeatureTransformerBlock(\n",
       "          (0): Linear(in_features=128, out_features=256, bias=False)\n",
       "          (1): GBN(\n",
       "            (bn): BatchNorm1d(256, eps=1e-05, momentum=0.7, affine=True, track_running_stats=True)\n",
       "          )\n",
       "          (2): GLU(dim=-1)\n",
       "        )\n",
       "      )\n",
       "    )\n",
       "    (3): FeatureTransformer(\n",
       "      (layers): ModuleList(\n",
       "        (0): FeatureTransformerBlock(\n",
       "          (0): Linear(in_features=142, out_features=256, bias=False)\n",
       "          (1): GBN(\n",
       "            (bn): BatchNorm1d(256, eps=1e-05, momentum=0.7, affine=True, track_running_stats=True)\n",
       "          )\n",
       "          (2): GLU(dim=-1)\n",
       "        )\n",
       "        (1): FeatureTransformerBlock(\n",
       "          (0): Linear(in_features=128, out_features=256, bias=False)\n",
       "          (1): GBN(\n",
       "            (bn): BatchNorm1d(256, eps=1e-05, momentum=0.7, affine=True, track_running_stats=True)\n",
       "          )\n",
       "          (2): GLU(dim=-1)\n",
       "        )\n",
       "        (2): FeatureTransformerBlock(\n",
       "          (0): Linear(in_features=128, out_features=256, bias=False)\n",
       "          (1): GBN(\n",
       "            (bn): BatchNorm1d(256, eps=1e-05, momentum=0.7, affine=True, track_running_stats=True)\n",
       "          )\n",
       "          (2): GLU(dim=-1)\n",
       "        )\n",
       "        (3): FeatureTransformerBlock(\n",
       "          (0): Linear(in_features=128, out_features=256, bias=False)\n",
       "          (1): GBN(\n",
       "            (bn): BatchNorm1d(256, eps=1e-05, momentum=0.7, affine=True, track_running_stats=True)\n",
       "          )\n",
       "          (2): GLU(dim=-1)\n",
       "        )\n",
       "      )\n",
       "    )\n",
       "    (4): FeatureTransformer(\n",
       "      (layers): ModuleList(\n",
       "        (0): FeatureTransformerBlock(\n",
       "          (0): Linear(in_features=142, out_features=256, bias=False)\n",
       "          (1): GBN(\n",
       "            (bn): BatchNorm1d(256, eps=1e-05, momentum=0.7, affine=True, track_running_stats=True)\n",
       "          )\n",
       "          (2): GLU(dim=-1)\n",
       "        )\n",
       "        (1): FeatureTransformerBlock(\n",
       "          (0): Linear(in_features=128, out_features=256, bias=False)\n",
       "          (1): GBN(\n",
       "            (bn): BatchNorm1d(256, eps=1e-05, momentum=0.7, affine=True, track_running_stats=True)\n",
       "          )\n",
       "          (2): GLU(dim=-1)\n",
       "        )\n",
       "        (2): FeatureTransformerBlock(\n",
       "          (0): Linear(in_features=128, out_features=256, bias=False)\n",
       "          (1): GBN(\n",
       "            (bn): BatchNorm1d(256, eps=1e-05, momentum=0.7, affine=True, track_running_stats=True)\n",
       "          )\n",
       "          (2): GLU(dim=-1)\n",
       "        )\n",
       "        (3): FeatureTransformerBlock(\n",
       "          (0): Linear(in_features=128, out_features=256, bias=False)\n",
       "          (1): GBN(\n",
       "            (bn): BatchNorm1d(256, eps=1e-05, momentum=0.7, affine=True, track_running_stats=True)\n",
       "          )\n",
       "          (2): GLU(dim=-1)\n",
       "        )\n",
       "      )\n",
       "    )\n",
       "  )\n",
       ")"
      ]
     },
     "execution_count": 72,
     "metadata": {},
     "output_type": "execute_result"
    }
   ],
   "source": [
    "learn.model.enc.requires_grad_(False)"
   ]
  },
  {
   "cell_type": "code",
   "execution_count": 75,
   "metadata": {
    "ExecuteTime": {
     "end_time": "2020-10-31T18:49:24.159832Z",
     "start_time": "2020-10-31T18:49:22.791820Z"
    }
   },
   "outputs": [],
   "source": [
    "l = tabnet_df_classifier(df, **params, enc=learn.model.enc, val_pct=0.99, **model_params)"
   ]
  },
  {
   "cell_type": "code",
   "execution_count": 77,
   "metadata": {
    "ExecuteTime": {
     "end_time": "2020-10-31T18:49:28.462495Z",
     "start_time": "2020-10-31T18:49:28.459208Z"
    }
   },
   "outputs": [],
   "source": [
    "l.dls.train.bs = l.dls.train.n//2 if l.dls.train.n < model_params['bs'] else model_params['bs']"
   ]
  },
  {
   "cell_type": "code",
   "execution_count": 78,
   "metadata": {
    "ExecuteTime": {
     "end_time": "2020-10-31T18:49:32.281499Z",
     "start_time": "2020-10-31T18:49:28.679111Z"
    }
   },
   "outputs": [
    {
     "data": {
      "text/html": [],
      "text/plain": [
       "<IPython.core.display.HTML object>"
      ]
     },
     "metadata": {},
     "output_type": "display_data"
    },
    {
     "data": {
      "text/plain": [
       "SuggestedLRs(lr_min=0.09120108485221863, lr_steep=0.010964781977236271)"
      ]
     },
     "execution_count": 78,
     "metadata": {},
     "output_type": "execute_result"
    },
    {
     "data": {
      "image/png": "[encoded data removed]",
      "text/plain": [
       "<Figure size 432x288 with 1 Axes>"
      ]
     },
     "metadata": {
      "needs_background": "light"
     },
     "output_type": "display_data"
    }
   ],
   "source": [
    "l.lr_find()"
   ]
  },
  {
   "cell_type": "code",
   "execution_count": 79,
   "metadata": {
    "ExecuteTime": {
     "end_time": "2020-10-31T18:50:39.973241Z",
     "start_time": "2020-10-31T18:49:40.038553Z"
    }
   },
   "outputs": [
    {
     "data": {
      "text/html": [
       "<table border=\"1\" class=\"dataframe\">\n",
       "  <thead>\n",
       "    <tr style=\"text-align: left;\">\n",
       "      <th>epoch</th>\n",
       "      <th>train_loss</th>\n",
       "      <th>valid_loss</th>\n",
       "      <th>accuracy</th>\n",
       "      <th>time</th>\n",
       "    </tr>\n",
       "  </thead>\n",
       "  <tbody>\n",
       "    <tr>\n",
       "      <td>0</td>\n",
       "      <td>4.029622</td>\n",
       "      <td>4.511779</td>\n",
       "      <td>0.068869</td>\n",
       "      <td>00:01</td>\n",
       "    </tr>\n",
       "    <tr>\n",
       "      <td>1</td>\n",
       "      <td>3.686173</td>\n",
       "      <td>2.762117</td>\n",
       "      <td>0.287566</td>\n",
       "      <td>00:01</td>\n",
       "    </tr>\n",
       "    <tr>\n",
       "      <td>2</td>\n",
       "      <td>3.270779</td>\n",
       "      <td>2.116446</td>\n",
       "      <td>0.404490</td>\n",
       "      <td>00:01</td>\n",
       "    </tr>\n",
       "    <tr>\n",
       "      <td>3</td>\n",
       "      <td>2.879565</td>\n",
       "      <td>3.236540</td>\n",
       "      <td>0.427702</td>\n",
       "      <td>00:01</td>\n",
       "    </tr>\n",
       "    <tr>\n",
       "      <td>4</td>\n",
       "      <td>2.588588</td>\n",
       "      <td>2.983506</td>\n",
       "      <td>0.467399</td>\n",
       "      <td>00:01</td>\n",
       "    </tr>\n",
       "    <tr>\n",
       "      <td>5</td>\n",
       "      <td>2.380876</td>\n",
       "      <td>2.803588</td>\n",
       "      <td>0.469601</td>\n",
       "      <td>00:01</td>\n",
       "    </tr>\n",
       "    <tr>\n",
       "      <td>6</td>\n",
       "      <td>2.217794</td>\n",
       "      <td>2.355947</td>\n",
       "      <td>0.388495</td>\n",
       "      <td>00:01</td>\n",
       "    </tr>\n",
       "    <tr>\n",
       "      <td>7</td>\n",
       "      <td>2.091195</td>\n",
       "      <td>1.688432</td>\n",
       "      <td>0.479561</td>\n",
       "      <td>00:01</td>\n",
       "    </tr>\n",
       "    <tr>\n",
       "      <td>8</td>\n",
       "      <td>1.990363</td>\n",
       "      <td>1.850647</td>\n",
       "      <td>0.489854</td>\n",
       "      <td>00:01</td>\n",
       "    </tr>\n",
       "    <tr>\n",
       "      <td>9</td>\n",
       "      <td>1.899104</td>\n",
       "      <td>1.925308</td>\n",
       "      <td>0.478379</td>\n",
       "      <td>00:01</td>\n",
       "    </tr>\n",
       "    <tr>\n",
       "      <td>10</td>\n",
       "      <td>1.821977</td>\n",
       "      <td>1.446268</td>\n",
       "      <td>0.524091</td>\n",
       "      <td>00:01</td>\n",
       "    </tr>\n",
       "    <tr>\n",
       "      <td>11</td>\n",
       "      <td>1.751786</td>\n",
       "      <td>1.324687</td>\n",
       "      <td>0.506702</td>\n",
       "      <td>00:01</td>\n",
       "    </tr>\n",
       "    <tr>\n",
       "      <td>12</td>\n",
       "      <td>1.691975</td>\n",
       "      <td>1.499972</td>\n",
       "      <td>0.530682</td>\n",
       "      <td>00:01</td>\n",
       "    </tr>\n",
       "    <tr>\n",
       "      <td>13</td>\n",
       "      <td>1.638937</td>\n",
       "      <td>1.506629</td>\n",
       "      <td>0.489793</td>\n",
       "      <td>00:01</td>\n",
       "    </tr>\n",
       "    <tr>\n",
       "      <td>14</td>\n",
       "      <td>1.590379</td>\n",
       "      <td>1.370898</td>\n",
       "      <td>0.533091</td>\n",
       "      <td>00:01</td>\n",
       "    </tr>\n",
       "    <tr>\n",
       "      <td>15</td>\n",
       "      <td>1.556500</td>\n",
       "      <td>1.322097</td>\n",
       "      <td>0.531510</td>\n",
       "      <td>00:01</td>\n",
       "    </tr>\n",
       "    <tr>\n",
       "      <td>16</td>\n",
       "      <td>1.523263</td>\n",
       "      <td>1.324522</td>\n",
       "      <td>0.528182</td>\n",
       "      <td>00:01</td>\n",
       "    </tr>\n",
       "    <tr>\n",
       "      <td>17</td>\n",
       "      <td>1.491920</td>\n",
       "      <td>1.329622</td>\n",
       "      <td>0.530444</td>\n",
       "      <td>00:01</td>\n",
       "    </tr>\n",
       "    <tr>\n",
       "      <td>18</td>\n",
       "      <td>1.468640</td>\n",
       "      <td>1.291066</td>\n",
       "      <td>0.544606</td>\n",
       "      <td>00:01</td>\n",
       "    </tr>\n",
       "    <tr>\n",
       "      <td>19</td>\n",
       "      <td>1.443561</td>\n",
       "      <td>1.193753</td>\n",
       "      <td>0.553328</td>\n",
       "      <td>00:01</td>\n",
       "    </tr>\n",
       "    <tr>\n",
       "      <td>20</td>\n",
       "      <td>1.421135</td>\n",
       "      <td>1.164243</td>\n",
       "      <td>0.561475</td>\n",
       "      <td>00:01</td>\n",
       "    </tr>\n",
       "    <tr>\n",
       "      <td>21</td>\n",
       "      <td>1.400300</td>\n",
       "      <td>1.112421</td>\n",
       "      <td>0.558414</td>\n",
       "      <td>00:01</td>\n",
       "    </tr>\n",
       "    <tr>\n",
       "      <td>22</td>\n",
       "      <td>1.380115</td>\n",
       "      <td>1.238963</td>\n",
       "      <td>0.541470</td>\n",
       "      <td>00:01</td>\n",
       "    </tr>\n",
       "    <tr>\n",
       "      <td>23</td>\n",
       "      <td>1.358362</td>\n",
       "      <td>1.274164</td>\n",
       "      <td>0.522030</td>\n",
       "      <td>00:01</td>\n",
       "    </tr>\n",
       "    <tr>\n",
       "      <td>24</td>\n",
       "      <td>1.339992</td>\n",
       "      <td>1.178373</td>\n",
       "      <td>0.534859</td>\n",
       "      <td>00:01</td>\n",
       "    </tr>\n",
       "    <tr>\n",
       "      <td>25</td>\n",
       "      <td>1.323748</td>\n",
       "      <td>1.176974</td>\n",
       "      <td>0.525717</td>\n",
       "      <td>00:01</td>\n",
       "    </tr>\n",
       "    <tr>\n",
       "      <td>26</td>\n",
       "      <td>1.311086</td>\n",
       "      <td>1.125786</td>\n",
       "      <td>0.560490</td>\n",
       "      <td>00:01</td>\n",
       "    </tr>\n",
       "    <tr>\n",
       "      <td>27</td>\n",
       "      <td>1.297674</td>\n",
       "      <td>1.146344</td>\n",
       "      <td>0.544990</td>\n",
       "      <td>00:01</td>\n",
       "    </tr>\n",
       "    <tr>\n",
       "      <td>28</td>\n",
       "      <td>1.289047</td>\n",
       "      <td>1.217087</td>\n",
       "      <td>0.541015</td>\n",
       "      <td>00:01</td>\n",
       "    </tr>\n",
       "    <tr>\n",
       "      <td>29</td>\n",
       "      <td>1.277427</td>\n",
       "      <td>1.159688</td>\n",
       "      <td>0.532369</td>\n",
       "      <td>00:01</td>\n",
       "    </tr>\n",
       "    <tr>\n",
       "      <td>30</td>\n",
       "      <td>1.266978</td>\n",
       "      <td>1.404698</td>\n",
       "      <td>0.549242</td>\n",
       "      <td>00:01</td>\n",
       "    </tr>\n",
       "    <tr>\n",
       "      <td>31</td>\n",
       "      <td>1.255959</td>\n",
       "      <td>1.154705</td>\n",
       "      <td>0.527960</td>\n",
       "      <td>00:01</td>\n",
       "    </tr>\n",
       "    <tr>\n",
       "      <td>32</td>\n",
       "      <td>1.247057</td>\n",
       "      <td>1.115643</td>\n",
       "      <td>0.556025</td>\n",
       "      <td>00:01</td>\n",
       "    </tr>\n",
       "    <tr>\n",
       "      <td>33</td>\n",
       "      <td>1.237274</td>\n",
       "      <td>1.105594</td>\n",
       "      <td>0.538722</td>\n",
       "      <td>00:01</td>\n",
       "    </tr>\n",
       "    <tr>\n",
       "      <td>34</td>\n",
       "      <td>1.226924</td>\n",
       "      <td>1.096153</td>\n",
       "      <td>0.545530</td>\n",
       "      <td>00:01</td>\n",
       "    </tr>\n",
       "    <tr>\n",
       "      <td>35</td>\n",
       "      <td>1.218037</td>\n",
       "      <td>1.094299</td>\n",
       "      <td>0.531828</td>\n",
       "      <td>00:01</td>\n",
       "    </tr>\n",
       "    <tr>\n",
       "      <td>36</td>\n",
       "      <td>1.208557</td>\n",
       "      <td>1.085116</td>\n",
       "      <td>0.556970</td>\n",
       "      <td>00:01</td>\n",
       "    </tr>\n",
       "    <tr>\n",
       "      <td>37</td>\n",
       "      <td>1.200017</td>\n",
       "      <td>1.085549</td>\n",
       "      <td>0.552283</td>\n",
       "      <td>00:01</td>\n",
       "    </tr>\n",
       "    <tr>\n",
       "      <td>38</td>\n",
       "      <td>1.194115</td>\n",
       "      <td>1.104936</td>\n",
       "      <td>0.553864</td>\n",
       "      <td>00:01</td>\n",
       "    </tr>\n",
       "    <tr>\n",
       "      <td>39</td>\n",
       "      <td>1.187168</td>\n",
       "      <td>1.075643</td>\n",
       "      <td>0.555677</td>\n",
       "      <td>00:01</td>\n",
       "    </tr>\n",
       "    <tr>\n",
       "      <td>40</td>\n",
       "      <td>1.179519</td>\n",
       "      <td>1.064127</td>\n",
       "      <td>0.554500</td>\n",
       "      <td>00:01</td>\n",
       "    </tr>\n",
       "    <tr>\n",
       "      <td>41</td>\n",
       "      <td>1.172979</td>\n",
       "      <td>1.072480</td>\n",
       "      <td>0.552894</td>\n",
       "      <td>00:01</td>\n",
       "    </tr>\n",
       "    <tr>\n",
       "      <td>42</td>\n",
       "      <td>1.167904</td>\n",
       "      <td>1.082728</td>\n",
       "      <td>0.554045</td>\n",
       "      <td>00:01</td>\n",
       "    </tr>\n",
       "    <tr>\n",
       "      <td>43</td>\n",
       "      <td>1.163691</td>\n",
       "      <td>1.074962</td>\n",
       "      <td>0.556828</td>\n",
       "      <td>00:01</td>\n",
       "    </tr>\n",
       "    <tr>\n",
       "      <td>44</td>\n",
       "      <td>1.157737</td>\n",
       "      <td>1.068124</td>\n",
       "      <td>0.551732</td>\n",
       "      <td>00:01</td>\n",
       "    </tr>\n",
       "    <tr>\n",
       "      <td>45</td>\n",
       "      <td>1.150125</td>\n",
       "      <td>1.071348</td>\n",
       "      <td>0.572056</td>\n",
       "      <td>00:01</td>\n",
       "    </tr>\n",
       "    <tr>\n",
       "      <td>46</td>\n",
       "      <td>1.145553</td>\n",
       "      <td>1.082502</td>\n",
       "      <td>0.555399</td>\n",
       "      <td>00:01</td>\n",
       "    </tr>\n",
       "    <tr>\n",
       "      <td>47</td>\n",
       "      <td>1.141156</td>\n",
       "      <td>1.036211</td>\n",
       "      <td>0.568783</td>\n",
       "      <td>00:01</td>\n",
       "    </tr>\n",
       "    <tr>\n",
       "      <td>48</td>\n",
       "      <td>1.135775</td>\n",
       "      <td>1.055643</td>\n",
       "      <td>0.558005</td>\n",
       "      <td>00:01</td>\n",
       "    </tr>\n",
       "    <tr>\n",
       "      <td>49</td>\n",
       "      <td>1.130566</td>\n",
       "      <td>1.079558</td>\n",
       "      <td>0.552470</td>\n",
       "      <td>00:01</td>\n",
       "    </tr>\n",
       "  </tbody>\n",
       "</table>"
      ],
      "text/plain": [
       "<IPython.core.display.HTML object>"
      ]
     },
     "metadata": {},
     "output_type": "display_data"
    }
   ],
   "source": [
    "l.fit_one_cycle(20, slice(5e-3, 1e-1))"
   ]
  },
  {
   "cell_type": "code",
   "execution_count": 81,
   "metadata": {
    "ExecuteTime": {
     "end_time": "2020-10-31T18:51:00.950590Z",
     "start_time": "2020-10-31T18:51:00.946747Z"
    }
   },
   "outputs": [],
   "source": [
    "l.model.enc.requires_grad_(True);"
   ]
  },
  {
   "cell_type": "code",
   "execution_count": 82,
   "metadata": {
    "ExecuteTime": {
     "end_time": "2020-10-31T18:51:14.714318Z",
     "start_time": "2020-10-31T18:51:08.832256Z"
    }
   },
   "outputs": [
    {
     "data": {
      "text/html": [],
      "text/plain": [
       "<IPython.core.display.HTML object>"
      ]
     },
     "metadata": {},
     "output_type": "display_data"
    },
    {
     "data": {
      "text/plain": [
       "SuggestedLRs(lr_min=0.0009120108559727668, lr_steep=9.12010818865383e-07)"
      ]
     },
     "execution_count": 82,
     "metadata": {},
     "output_type": "execute_result"
    },
    {
     "data": {
      "image/png": "[encoded data removed]",
      "text/plain": [
       "<Figure size 432x288 with 1 Axes>"
      ]
     },
     "metadata": {
      "needs_background": "light"
     },
     "output_type": "display_data"
    }
   ],
   "source": [
    "l.lr_find()"
   ]
  },
  {
   "cell_type": "code",
   "execution_count": 83,
   "metadata": {
    "ExecuteTime": {
     "end_time": "2020-10-31T18:51:45.353951Z",
     "start_time": "2020-10-31T18:51:20.593359Z"
    }
   },
   "outputs": [
    {
     "data": {
      "text/html": [
       "<table border=\"1\" class=\"dataframe\">\n",
       "  <thead>\n",
       "    <tr style=\"text-align: left;\">\n",
       "      <th>epoch</th>\n",
       "      <th>train_loss</th>\n",
       "      <th>valid_loss</th>\n",
       "      <th>accuracy</th>\n",
       "      <th>time</th>\n",
       "    </tr>\n",
       "  </thead>\n",
       "  <tbody>\n",
       "    <tr>\n",
       "      <td>0</td>\n",
       "      <td>1.023610</td>\n",
       "      <td>1.076999</td>\n",
       "      <td>0.555687</td>\n",
       "      <td>00:01</td>\n",
       "    </tr>\n",
       "    <tr>\n",
       "      <td>1</td>\n",
       "      <td>1.018266</td>\n",
       "      <td>1.082478</td>\n",
       "      <td>0.553606</td>\n",
       "      <td>00:01</td>\n",
       "    </tr>\n",
       "    <tr>\n",
       "      <td>2</td>\n",
       "      <td>1.022112</td>\n",
       "      <td>1.106846</td>\n",
       "      <td>0.550288</td>\n",
       "      <td>00:01</td>\n",
       "    </tr>\n",
       "    <tr>\n",
       "      <td>3</td>\n",
       "      <td>1.024957</td>\n",
       "      <td>1.072201</td>\n",
       "      <td>0.552869</td>\n",
       "      <td>00:01</td>\n",
       "    </tr>\n",
       "    <tr>\n",
       "      <td>4</td>\n",
       "      <td>1.032294</td>\n",
       "      <td>1.163351</td>\n",
       "      <td>0.502924</td>\n",
       "      <td>00:01</td>\n",
       "    </tr>\n",
       "    <tr>\n",
       "      <td>5</td>\n",
       "      <td>1.061410</td>\n",
       "      <td>1.094638</td>\n",
       "      <td>0.562116</td>\n",
       "      <td>00:01</td>\n",
       "    </tr>\n",
       "    <tr>\n",
       "      <td>6</td>\n",
       "      <td>1.077020</td>\n",
       "      <td>1.269620</td>\n",
       "      <td>0.506414</td>\n",
       "      <td>00:01</td>\n",
       "    </tr>\n",
       "    <tr>\n",
       "      <td>7</td>\n",
       "      <td>1.092183</td>\n",
       "      <td>1.179492</td>\n",
       "      <td>0.495551</td>\n",
       "      <td>00:01</td>\n",
       "    </tr>\n",
       "    <tr>\n",
       "      <td>8</td>\n",
       "      <td>1.093319</td>\n",
       "      <td>1.150867</td>\n",
       "      <td>0.555662</td>\n",
       "      <td>00:01</td>\n",
       "    </tr>\n",
       "    <tr>\n",
       "      <td>9</td>\n",
       "      <td>1.089353</td>\n",
       "      <td>1.145690</td>\n",
       "      <td>0.526843</td>\n",
       "      <td>00:01</td>\n",
       "    </tr>\n",
       "    <tr>\n",
       "      <td>10</td>\n",
       "      <td>1.084625</td>\n",
       "      <td>1.134848</td>\n",
       "      <td>0.546808</td>\n",
       "      <td>00:01</td>\n",
       "    </tr>\n",
       "    <tr>\n",
       "      <td>11</td>\n",
       "      <td>1.082061</td>\n",
       "      <td>1.282312</td>\n",
       "      <td>0.548000</td>\n",
       "      <td>00:01</td>\n",
       "    </tr>\n",
       "    <tr>\n",
       "      <td>12</td>\n",
       "      <td>1.080243</td>\n",
       "      <td>1.109826</td>\n",
       "      <td>0.550722</td>\n",
       "      <td>00:01</td>\n",
       "    </tr>\n",
       "    <tr>\n",
       "      <td>13</td>\n",
       "      <td>1.082938</td>\n",
       "      <td>1.092799</td>\n",
       "      <td>0.555884</td>\n",
       "      <td>00:01</td>\n",
       "    </tr>\n",
       "    <tr>\n",
       "      <td>14</td>\n",
       "      <td>1.080936</td>\n",
       "      <td>1.150616</td>\n",
       "      <td>0.555131</td>\n",
       "      <td>00:01</td>\n",
       "    </tr>\n",
       "    <tr>\n",
       "      <td>15</td>\n",
       "      <td>1.080109</td>\n",
       "      <td>1.128865</td>\n",
       "      <td>0.565157</td>\n",
       "      <td>00:01</td>\n",
       "    </tr>\n",
       "    <tr>\n",
       "      <td>16</td>\n",
       "      <td>1.079923</td>\n",
       "      <td>1.100175</td>\n",
       "      <td>0.562919</td>\n",
       "      <td>00:01</td>\n",
       "    </tr>\n",
       "    <tr>\n",
       "      <td>17</td>\n",
       "      <td>1.078770</td>\n",
       "      <td>1.089995</td>\n",
       "      <td>0.562970</td>\n",
       "      <td>00:01</td>\n",
       "    </tr>\n",
       "    <tr>\n",
       "      <td>18</td>\n",
       "      <td>1.076810</td>\n",
       "      <td>1.238225</td>\n",
       "      <td>0.557965</td>\n",
       "      <td>00:01</td>\n",
       "    </tr>\n",
       "    <tr>\n",
       "      <td>19</td>\n",
       "      <td>1.074352</td>\n",
       "      <td>1.061628</td>\n",
       "      <td>0.565722</td>\n",
       "      <td>00:01</td>\n",
       "    </tr>\n",
       "  </tbody>\n",
       "</table>"
      ],
      "text/plain": [
       "<IPython.core.display.HTML object>"
      ]
     },
     "metadata": {},
     "output_type": "display_data"
    }
   ],
   "source": [
    "l.fit_one_cycle(20, slice(5e-3, 1e-1))"
   ]
  },
  {
   "cell_type": "markdown",
   "metadata": {},
   "source": [
    "### SS Flowers"
   ]
  },
  {
   "cell_type": "code",
   "execution_count": null,
   "metadata": {
    "ExecuteTime": {
     "end_time": "2020-10-31T16:44:03.323814Z",
     "start_time": "2020-10-31T16:44:03.315427Z"
    }
   },
   "outputs": [],
   "source": [
    "data = load_iris()\n",
    "X,y = data['data'], data['target']\n",
    "cont_names = ['s_len', 's_wid', 'p_len', 'p_wid']\n",
    "cat_names = []\n",
    "y_names = 'target'\n",
    "df = pd.concat([pd.DataFrame(X, columns=cont_names),\n",
    "           pd.DataFrame(y, columns=[y_names])], axis=1)"
   ]
  },
  {
   "cell_type": "code",
   "execution_count": null,
   "metadata": {
    "ExecuteTime": {
     "end_time": "2020-10-31T16:46:02.146863Z",
     "start_time": "2020-10-31T16:46:02.142093Z"
    }
   },
   "outputs": [],
   "source": [
    "model_params = dict(n_d=16, n_a=16, n_steps=3, virtual_batch_size=4, gamma=1.5, bs=32,\n",
    "                    lambda_sparse=1e-4, momentum=0.7, n_shared_ft_blocks=2, n_independent_ft_blocks=0, p=0.3)\n",
    "val_pct = 0.2\n",
    "curriculum = False\n",
    "head = lambda n_out, **kwargs: LinDecoder(n_out, **kwargs)\n",
    "loss_func = MSELossFlat()"
   ]
  },
  {
   "cell_type": "code",
   "execution_count": null,
   "metadata": {
    "ExecuteTime": {
     "end_time": "2020-10-31T16:46:04.038777Z",
     "start_time": "2020-10-31T16:46:02.534512Z"
    }
   },
   "outputs": [],
   "source": [
    "to = tabular_pandas(df, cat_names, cont_names, y_names, tabular_type=TabularPandasIdentity, val_pct=val_pct)\n",
    "dls = to.dataloaders(bs=model_params['bs'])\n",
    "dls.n_inp = 2\n",
    "cbs = [SetPrior(), TabularMasking(p=model_params['p'], curriculum=curriculum),\n",
    "       MaskRegularizer(model_params['lambda_sparse'])]\n",
    "model = TabNetSelfSupervised(head, to, **model_params)"
   ]
  },
  {
   "cell_type": "code",
   "execution_count": null,
   "metadata": {
    "ExecuteTime": {
     "end_time": "2020-10-31T16:46:04.506736Z",
     "start_time": "2020-10-31T16:46:04.502430Z"
    }
   },
   "outputs": [],
   "source": [
    "learn = Learner(dls, model, cbs=cbs, loss_func=loss_func, metrics=[mse])"
   ]
  },
  {
   "cell_type": "code",
   "execution_count": null,
   "metadata": {
    "ExecuteTime": {
     "end_time": "2020-10-31T16:46:17.210056Z",
     "start_time": "2020-10-31T16:46:17.204981Z"
    }
   },
   "outputs": [],
   "source": [
    "learn.dls.cpu()"
   ]
  },
  {
   "cell_type": "code",
   "execution_count": null,
   "metadata": {
    "ExecuteTime": {
     "end_time": "2020-10-31T16:46:31.672949Z",
     "start_time": "2020-10-31T16:46:25.983582Z"
    },
    "scrolled": false
   },
   "outputs": [],
   "source": [
    "learn.fit_one_cycle(30, slice(1e-4, 1e-3))"
   ]
  },
  {
   "cell_type": "code",
   "execution_count": null,
   "metadata": {
    "ExecuteTime": {
     "end_time": "2020-10-31T16:46:33.015074Z",
     "start_time": "2020-10-31T16:46:32.913021Z"
    },
    "scrolled": false
   },
   "outputs": [],
   "source": [
    "dl = learn.dls.test_dl(df)\n",
    "preds, targs = learn.get_preds(dl=dl)"
   ]
  },
  {
   "cell_type": "code",
   "execution_count": null,
   "metadata": {
    "ExecuteTime": {
     "end_time": "2020-10-31T17:34:40.275498Z",
     "start_time": "2020-10-31T17:34:39.945708Z"
    }
   },
   "outputs": [],
   "source": [
    "preds[0][:10], targs[0][:10]"
   ]
  },
  {
   "cell_type": "markdown",
   "metadata": {
    "heading_collapsed": true
   },
   "source": [
    "### BaseLine"
   ]
  },
  {
   "cell_type": "code",
   "execution_count": null,
   "metadata": {
    "ExecuteTime": {
     "end_time": "2020-10-31T16:38:16.970965Z",
     "start_time": "2020-10-31T16:38:16.940139Z"
    },
    "hidden": true
   },
   "outputs": [],
   "source": [
    "splits = RandomSplitter()(range_of(df))\n",
    "dls = TabularPandas(df, cat_names=[], cont_names=['s_len', 's_wid', 'p_len', 'p_wid'], splits=splits,\n",
    "              procs=[Categorify, FillMissing, Normalize], y_names='target', y_block=CategoryBlock()).dataloaders(bs=4)"
   ]
  },
  {
   "cell_type": "code",
   "execution_count": null,
   "metadata": {
    "ExecuteTime": {
     "end_time": "2020-10-31T14:35:53.598870Z",
     "start_time": "2020-10-31T14:35:53.467781Z"
    },
    "hidden": true
   },
   "outputs": [],
   "source": [
    "learn = tabular_learner(dls, metrics=[accuracy])"
   ]
  },
  {
   "cell_type": "code",
   "execution_count": null,
   "metadata": {
    "ExecuteTime": {
     "end_time": "2020-10-31T14:35:14.851325Z",
     "start_time": "2020-10-31T14:35:13.620717Z"
    },
    "hidden": true
   },
   "outputs": [],
   "source": [
    "learn.lr_find()"
   ]
  },
  {
   "cell_type": "code",
   "execution_count": null,
   "metadata": {
    "ExecuteTime": {
     "end_time": "2020-10-31T14:35:20.983904Z",
     "start_time": "2020-10-31T14:35:14.853102Z"
    },
    "hidden": true
   },
   "outputs": [],
   "source": [
    "learn.fit_one_cycle(20, 1e-2)"
   ]
  },
  {
   "cell_type": "markdown",
   "metadata": {
    "heading_collapsed": true
   },
   "source": [
    "### TabNet"
   ]
  },
  {
   "cell_type": "code",
   "execution_count": null,
   "metadata": {
    "ExecuteTime": {
     "end_time": "2020-10-31T14:32:18.865345Z",
     "start_time": "2020-10-31T14:32:18.861565Z"
    },
    "hidden": true
   },
   "outputs": [],
   "source": [
    "model_params = dict(n_d=16, n_a=16, n_steps=5, virtual_batch_size=512, gamma=1.5, bs=30,\n",
    "                    lambda_sparse=1e-4, momentum=0.7, n_shared_ft_blocks=2, n_independent_ft_blocks=2)"
   ]
  },
  {
   "cell_type": "code",
   "execution_count": null,
   "metadata": {
    "ExecuteTime": {
     "end_time": "2020-10-31T14:32:18.908974Z",
     "start_time": "2020-10-31T14:32:18.867047Z"
    },
    "hidden": true
   },
   "outputs": [],
   "source": [
    "learn = tabnet_df_classifier(df, cat_names=[], cont_names=['s_len', 's_wid', 'p_len', 'p_wid'],\n",
    "                                                     y_names='target', val_pct=0.2, **model_params)"
   ]
  },
  {
   "cell_type": "code",
   "execution_count": null,
   "metadata": {
    "ExecuteTime": {
     "end_time": "2020-10-31T14:32:19.116123Z",
     "start_time": "2020-10-31T14:32:18.910318Z"
    },
    "hidden": true
   },
   "outputs": [],
   "source": [
    "learn.summary()"
   ]
  },
  {
   "cell_type": "code",
   "execution_count": null,
   "metadata": {
    "ExecuteTime": {
     "end_time": "2020-10-31T14:32:27.221445Z",
     "start_time": "2020-10-31T14:32:21.043951Z"
    },
    "hidden": true
   },
   "outputs": [],
   "source": [
    "learn.lr_find()"
   ]
  },
  {
   "cell_type": "code",
   "execution_count": null,
   "metadata": {
    "ExecuteTime": {
     "end_time": "2020-10-31T14:32:29.676821Z",
     "start_time": "2020-10-31T14:32:27.223305Z"
    },
    "hidden": true
   },
   "outputs": [],
   "source": [
    "learn.fit_one_cycle(10, 1e-2)"
   ]
  },
  {
   "cell_type": "markdown",
   "metadata": {},
   "source": [
    "# Export"
   ]
  },
  {
   "cell_type": "code",
   "execution_count": null,
   "metadata": {
    "ExecuteTime": {
     "end_time": "2020-10-31T14:00:06.325078Z",
     "start_time": "2020-10-31T14:00:06.077852Z"
    }
   },
   "outputs": [],
   "source": [
    "from nbdev.export import notebook2script\n",
    "notebook2script()"
   ]
  }
 ],
 "metadata": {
  "environment": {
   "name": "pytorch-gpu.1-4.m50",
   "type": "gcloud",
   "uri": "gcr.io/deeplearning-platform-release/pytorch-gpu.1-4:m50"
  },
  "kernelspec": {
   "display_name": "Python 3",
   "language": "python",
   "name": "python3"
  },
  "language_info": {
   "codemirror_mode": {
    "name": "ipython",
    "version": 3
   },
   "file_extension": ".py",
   "mimetype": "text/x-python",
   "name": "python",
   "nbconvert_exporter": "python",
   "pygments_lexer": "ipython3",
   "version": "3.7.6"
  },
  "toc": {
   "base_numbering": 1,
   "nav_menu": {},
   "number_sections": false,
   "sideBar": true,
   "skip_h1_title": false,
   "title_cell": "Table of Contents",
   "title_sidebar": "Contents",
   "toc_cell": false,
   "toc_position": {
    "height": "calc(100% - 180px)",
    "left": "10px",
    "top": "150px",
    "width": "304.475px"
   },
   "toc_section_display": true,
   "toc_window_display": false
  }
 },
 "nbformat": 4,
 "nbformat_minor": 2
}
