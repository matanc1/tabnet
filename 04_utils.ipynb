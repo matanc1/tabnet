{
 "cells": [
  {
   "cell_type": "code",
   "execution_count": 2,
   "metadata": {
    "ExecuteTime": {
     "end_time": "2020-10-29T16:15:32.732688Z",
     "start_time": "2020-10-29T16:15:32.716970Z"
    }
   },
   "outputs": [],
   "source": [
    "%load_ext autoreload\n",
    "%autoreload 2 \n",
    "#default_exp utils"
   ]
  },
  {
   "cell_type": "code",
   "execution_count": 3,
   "metadata": {
    "ExecuteTime": {
     "end_time": "2020-10-29T16:15:33.448458Z",
     "start_time": "2020-10-29T16:15:32.734407Z"
    }
   },
   "outputs": [],
   "source": [
    "#exporti\n",
    "from fastai.tabular.all import * \n",
    "from tabnet.model import * "
   ]
  },
  {
   "cell_type": "code",
   "execution_count": 4,
   "metadata": {
    "ExecuteTime": {
     "end_time": "2020-10-29T16:15:33.452644Z",
     "start_time": "2020-10-29T16:15:33.450215Z"
    }
   },
   "outputs": [],
   "source": [
    "from IPython.core.interactiveshell import InteractiveShell\n",
    "InteractiveShell.ast_node_interactivity = \"all\""
   ]
  },
  {
   "cell_type": "markdown",
   "metadata": {},
   "source": [
    " "
   ]
  },
  {
   "cell_type": "markdown",
   "metadata": {},
   "source": [
    "# Model creating functions"
   ]
  },
  {
   "cell_type": "markdown",
   "metadata": {},
   "source": [
    "### classifier"
   ]
  },
  {
   "cell_type": "code",
   "execution_count": 18,
   "metadata": {
    "ExecuteTime": {
     "end_time": "2020-10-29T16:20:33.817234Z",
     "start_time": "2020-10-29T16:20:33.813818Z"
    }
   },
   "outputs": [],
   "source": [
    "#export\n",
    "@delegates(TabNetBase.__init__)\n",
    "def TabNetClassifier(head_func, to, **kwargs):\n",
    "    return TabNet(head_func, emb_szs=get_emb_sz(to), n_cont=len(to.cont_names), n_out=to.c, **kwargs)"
   ]
  },
  {
   "cell_type": "markdown",
   "metadata": {},
   "source": [
    "### self supervised"
   ]
  },
  {
   "cell_type": "code",
   "execution_count": 19,
   "metadata": {
    "ExecuteTime": {
     "end_time": "2020-10-29T16:20:35.114814Z",
     "start_time": "2020-10-29T16:20:35.110768Z"
    }
   },
   "outputs": [],
   "source": [
    "#export\n",
    "@delegates(TabNetBase.__init__)\n",
    "def TabNetSelfSupervised(head_func, to, bs=1024, **kwargs):\n",
    "    n_out = len(get_emb_sz(to)) + len(to.cont_names)\n",
    "    return TabNet(tabnet_decoder, emb_szs=get_emb_sz(to), n_cont=len(to.cont_names), n_out=n_out, **kwargs)"
   ]
  },
  {
   "cell_type": "markdown",
   "metadata": {},
   "source": [
    "# Self Supervised Data Loader "
   ]
  },
  {
   "cell_type": "code",
   "execution_count": 20,
   "metadata": {
    "ExecuteTime": {
     "end_time": "2020-10-29T16:20:35.120919Z",
     "start_time": "2020-10-29T16:20:35.116315Z"
    }
   },
   "outputs": [],
   "source": [
    "#export\n",
    "class ReadTabBatchIdentity(ItemTransform):\n",
    "    \n",
    "    def __init__(self, to): store_attr()\n",
    "        \n",
    "    def encodes(self, to):\n",
    "        if not to.with_cont: res = (tensor(to.cats).long(),)\n",
    "        else: res = (tensor(to.cats).long(),tensor(to.conts).float())\n",
    "        res = res + res #\n",
    "        if to.device is not None: res = to_device(res, to.device)\n",
    "        return res "
   ]
  },
  {
   "cell_type": "code",
   "execution_count": 21,
   "metadata": {
    "ExecuteTime": {
     "end_time": "2020-10-29T16:20:35.194807Z",
     "start_time": "2020-10-29T16:20:35.192597Z"
    }
   },
   "outputs": [],
   "source": [
    "#export\n",
    "class TabularPandasIdentity(TabularPandas): pass "
   ]
  },
  {
   "cell_type": "code",
   "execution_count": 22,
   "metadata": {
    "ExecuteTime": {
     "end_time": "2020-10-29T16:20:35.200881Z",
     "start_time": "2020-10-29T16:20:35.196261Z"
    }
   },
   "outputs": [],
   "source": [
    "#export\n",
    "@delegates()\n",
    "class TabDataLoaderIdentity(TabDataLoader):\n",
    "    do_item = noops\n",
    "    def __init__(self, dataset, bs=16, shuffle=False, after_batch=None, num_workers=0, **kwargs):\n",
    "        if after_batch is None: after_batch = L(TransformBlock().batch_tfms)+ReadTabBatchIdentity(dataset)\n",
    "        super().__init__(dataset, bs=bs, shuffle=shuffle, after_batch=after_batch, num_workers=num_workers, **kwargs)\n",
    "\n",
    "    def create_batch(self, b): return self.dataset.iloc[b]\n",
    "\n",
    "TabularPandasIdentity._dl_type = TabDataLoaderIdentity"
   ]
  },
  {
   "cell_type": "markdown",
   "metadata": {},
   "source": [
    "# Experiment Helpers "
   ]
  },
  {
   "cell_type": "code",
   "execution_count": 29,
   "metadata": {
    "ExecuteTime": {
     "end_time": "2020-10-29T16:21:54.567714Z",
     "start_time": "2020-10-29T16:21:54.563606Z"
    }
   },
   "outputs": [],
   "source": [
    "#export\n",
    "def tabular_pandas(df, cat_names, cont_names, y_names, val_pct=0.2, tabular_type=TabularPandas):\n",
    "    splits = RandomSplitter(valid_pct=val_pct)(range_of(df))\n",
    "    to = tabular_type(df, procs=[Categorify, FillMissing,Normalize], cont_names=cont_names, cat_names=cat_names,\n",
    "                           y_names=y_names, splits=splits, y_block=CategoryBlock())\n",
    "    return to"
   ]
  },
  {
   "cell_type": "code",
   "execution_count": 30,
   "metadata": {
    "ExecuteTime": {
     "end_time": "2020-10-29T16:21:54.740760Z",
     "start_time": "2020-10-29T16:21:54.735491Z"
    }
   },
   "outputs": [],
   "source": [
    "#export \n",
    "@delegates(TabNetClassifier)\n",
    "def tabnet_df_classifier(df, cat_names, cont_names, y_names, cbs=[], enc=None, val_pct=0.2, **kwargs):\n",
    "    to = tabular_pandas(df, cat_names, cont_names, y_names, val_pct=val_pct)\n",
    "    dls = to.dataloaders(bs=kwargs['bs'])\n",
    "    model = TabNetClassifier(linear_head, to, **tabnet_args)\n",
    "    if enc is not None: model.enc = enc\n",
    "    cbs=[SetPrior(), MaskRegularizer(kwargs['lambda_sparse']), *cbs]\n",
    "    return Learner(dls, model, CrossEntropyLossFlat(), cbs=cbs, metrics=[accuracy])"
   ]
  },
  {
   "cell_type": "code",
   "execution_count": 31,
   "metadata": {
    "ExecuteTime": {
     "end_time": "2020-10-29T16:21:54.980594Z",
     "start_time": "2020-10-29T16:21:54.975587Z"
    }
   },
   "outputs": [],
   "source": [
    "#export\n",
    "@delegates(TabNetSelfSupervised)\n",
    "def tabnet_df_self_sup(df, cat_names, cont_names, y_names, cbs=[], curriculum=False, **kwargs):\n",
    "    to = tabular_pandas(df, cat_names, cont_names, y_names, tabular_type=TabularPandasIdentity)\n",
    "    dls = to.dataloaders(bs=kwargs['bs'])\n",
    "    dls.n_inp = 2\n",
    "    cbs = [SetPrior(), TabularMasking(p=0.8, curriculum=curriculum), MaskRegularizer(kwargs['lambda_sparse']), *cbs]\n",
    "    model = TabNetSelfSupervised(tabnet_decoder, to, **kwargs)\n",
    "    return Learner(dls, model, cbs=cbs, loss_func=MaskReconstructionLoss())"
   ]
  },
  {
   "cell_type": "code",
   "execution_count": 32,
   "metadata": {
    "ExecuteTime": {
     "end_time": "2020-10-29T16:21:55.346775Z",
     "start_time": "2020-10-29T16:21:55.341479Z"
    }
   },
   "outputs": [],
   "source": [
    "#export \n",
    "@delegates(tabnet_df_self_sup)\n",
    "def score_before_after_ss(df, ds_params, model_params, cycle_lr=[(10, 1e-1/2)]*3, **kwargs):\n",
    "    learn = tabnet_df_classifier(df, **ds_params, tabnet_args=model_params)\n",
    "    learn.fit_one_cycle(*cycle_lr[0]) \n",
    "    before = learn.get_preds()\n",
    "    \n",
    "    learn_ss = tabnet_df_self_sup(df, **ds_params, tabnet_args=model_params)\n",
    "    learn_ss.fit_one_cycle(*cycle_lr[1])\n",
    "    \n",
    "    learn = tabnet_df_classifier(df, **ds_params, tabnet_args=model_params, enc=learn_ss.model.enc)\n",
    "    learn.fit_one_cycle(*cycle_lr[2]) \n",
    "    after = learn.get_preds()\n",
    "\n",
    "    return (before, after)"
   ]
  },
  {
   "cell_type": "markdown",
   "metadata": {},
   "source": [
    "# Export"
   ]
  },
  {
   "cell_type": "code",
   "execution_count": 33,
   "metadata": {
    "ExecuteTime": {
     "end_time": "2020-10-29T16:21:57.809386Z",
     "start_time": "2020-10-29T16:21:57.361547Z"
    }
   },
   "outputs": [
    {
     "name": "stdout",
     "output_type": "stream",
     "text": [
      "Converted 01_core.ipynb.\n",
      "Converted 02_model.ipynb.\n",
      "Converted 03_experiments.ipynb.\n",
      "Converted 04_utils.ipynb.\n",
      "Converted index.ipynb.\n"
     ]
    }
   ],
   "source": [
    "from nbdev.export import notebook2script\n",
    "notebook2script()"
   ]
  }
 ],
 "metadata": {
  "environment": {
   "name": "pytorch-gpu.1-4.m50",
   "type": "gcloud",
   "uri": "gcr.io/deeplearning-platform-release/pytorch-gpu.1-4:m50"
  },
  "kernelspec": {
   "display_name": "Python 3",
   "language": "python",
   "name": "python3"
  },
  "language_info": {
   "codemirror_mode": {
    "name": "ipython",
    "version": 3
   },
   "file_extension": ".py",
   "mimetype": "text/x-python",
   "name": "python",
   "nbconvert_exporter": "python",
   "pygments_lexer": "ipython3",
   "version": "3.7.6"
  },
  "toc": {
   "base_numbering": 1,
   "nav_menu": {},
   "number_sections": false,
   "sideBar": true,
   "skip_h1_title": false,
   "title_cell": "Table of Contents",
   "title_sidebar": "Contents",
   "toc_cell": false,
   "toc_position": {
    "height": "calc(100% - 180px)",
    "left": "10px",
    "top": "150px",
    "width": "304.475px"
   },
   "toc_section_display": true,
   "toc_window_display": false
  }
 },
 "nbformat": 4,
 "nbformat_minor": 2
}
